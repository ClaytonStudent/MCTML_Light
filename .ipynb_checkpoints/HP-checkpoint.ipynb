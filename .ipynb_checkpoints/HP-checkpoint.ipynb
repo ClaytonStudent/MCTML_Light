{
 "cells": [
  {
   "cell_type": "markdown",
   "metadata": {},
   "source": [
    "## 1. All Classifiers hyper parameter range"
   ]
  },
  {
   "cell_type": "code",
   "execution_count": null,
   "metadata": {},
   "outputs": [],
   "source": [
    "import warnings\n",
    "warnings.filterwarnings('ignore')"
   ]
  },
  {
   "cell_type": "markdown",
   "metadata": {},
   "source": [
    "### 1. AdaboostClassifier"
   ]
  },
  {
   "cell_type": "code",
   "execution_count": 139,
   "metadata": {},
   "outputs": [],
   "source": [
    "from sklearn.ensemble import AdaBoostClassifier\n",
    "param_dist_ada = {'algorithm':['SAMME.R','SAMME'],\n",
    "              'n_estimators':[50,100,500],\n",
    "              'learning_rate':[0.01,0.1,2]}"
   ]
  },
  {
   "cell_type": "markdown",
   "metadata": {},
   "source": [
    "### 2. BernoulliNB"
   ]
  },
  {
   "cell_type": "code",
   "execution_count": 114,
   "metadata": {},
   "outputs": [],
   "source": [
    "from sklearn.naive_bayes import BernoulliNB\n",
    "param_dist_ber = {'alpha':[0.01,0.1,1,2],\n",
    "             'fit_prior':[True,False]}"
   ]
  },
  {
   "cell_type": "markdown",
   "metadata": {},
   "source": [
    "### 3. DecisionTree"
   ]
  },
  {
   "cell_type": "code",
   "execution_count": 115,
   "metadata": {},
   "outputs": [],
   "source": [
    "from sklearn.tree import DecisionTreeClassifier\n",
    "param_dist_dt = {'criterion':['gini','entropy'],\n",
    "             'min_samples_split':[2,10,20],\n",
    "             'min_samples_leaf':[2,10,20]}"
   ]
  },
  {
   "cell_type": "markdown",
   "metadata": {},
   "source": [
    "### 4. ExtraTree"
   ]
  },
  {
   "cell_type": "code",
   "execution_count": 155,
   "metadata": {},
   "outputs": [],
   "source": [
    "from sklearn.tree import ExtraTreeClassifier\n",
    "param_dist_et = {'criterion':['gini','entropy'],\n",
    "             'min_samples_split':[2,10,20]}"
   ]
  },
  {
   "cell_type": "markdown",
   "metadata": {},
   "source": [
    "### 5. KNN"
   ]
  },
  {
   "cell_type": "code",
   "execution_count": 111,
   "metadata": {},
   "outputs": [],
   "source": [
    "from sklearn.neighbors import KNeighborsClassifier\n",
    "param_dist_knn = {'n_neighbors':[3,5,10],\n",
    "             'weights':[\"uniform\", \"distance\"],\n",
    "             'p':[1,2]}"
   ]
  },
  {
   "cell_type": "markdown",
   "metadata": {},
   "source": [
    "### 6. LDA"
   ]
  },
  {
   "cell_type": "code",
   "execution_count": 12,
   "metadata": {},
   "outputs": [],
   "source": [
    "from sklearn.discriminant_analysis import LinearDiscriminantAnalysis\n",
    "param_dist_lda = {'n_components':[1,10,100],\n",
    "             'tol':[0.001,0.01,0.1]}"
   ]
  },
  {
   "cell_type": "markdown",
   "metadata": {},
   "source": [
    "### 7. SGD"
   ]
  },
  {
   "cell_type": "code",
   "execution_count": 14,
   "metadata": {},
   "outputs": [],
   "source": [
    "from sklearn.linear_model import SGDClassifier\n",
    "param_dist_sgd = {'loss':[\"hinge\", \"log\", \"modified_huber\", \"squared_hinge\", \"perceptron\"],\n",
    "             'penalty':[\"l1\", \"l2\", \"elasticnet\"],\n",
    "             'alpha':[0.01,0.1,1.0]}"
   ]
  },
  {
   "cell_type": "markdown",
   "metadata": {},
   "source": [
    "### 8. LibLinear_SVC"
   ]
  },
  {
   "cell_type": "code",
   "execution_count": 16,
   "metadata": {},
   "outputs": [],
   "source": [
    "from sklearn.svm import LinearSVC\n",
    "param_dist_lsvc = {'C':[0.01,0.1,1.0,10.0,100.0],\n",
    "             'tol':[0.001,0.01,0.1,1.0]}"
   ]
  },
  {
   "cell_type": "markdown",
   "metadata": {},
   "source": [
    "### 9. LibSVM_SVC"
   ]
  },
  {
   "cell_type": "code",
   "execution_count": 20,
   "metadata": {},
   "outputs": [],
   "source": [
    "from sklearn.svm import SVC\n",
    "param_dist_svd = {'C':[0.01,0.1,1.0,10.0,100.0],\n",
    "             'tol':[0.001,0.01,0.1,1.0]}"
   ]
  },
  {
   "cell_type": "markdown",
   "metadata": {},
   "source": [
    "### 10. MultinomialNB"
   ]
  },
  {
   "cell_type": "code",
   "execution_count": 22,
   "metadata": {},
   "outputs": [],
   "source": [
    "from sklearn.naive_bayes import MultinomialNB\n",
    "param_dist_mnb = {'alpha':[0.01,0.1,1.0,10],\n",
    "             'fit_prior':[True,False]}"
   ]
  },
  {
   "cell_type": "markdown",
   "metadata": {},
   "source": [
    "### 11. PassiveAggressive"
   ]
  },
  {
   "cell_type": "code",
   "execution_count": 26,
   "metadata": {},
   "outputs": [],
   "source": [
    "from sklearn.linear_model import PassiveAggressiveClassifier\n",
    "param_dist_pac = {'C':[0.001,0.01,0.1,1.0],\n",
    "             'loss':[\"hinge\", \"squared_hinge\"],\n",
    "             'tol':[0.001,0.01,0.1,1.0]}"
   ]
  },
  {
   "cell_type": "markdown",
   "metadata": {},
   "source": [
    "### 12. QDA"
   ]
  },
  {
   "cell_type": "code",
   "execution_count": 30,
   "metadata": {},
   "outputs": [],
   "source": [
    "from sklearn.discriminant_analysis import QuadraticDiscriminantAnalysis\n",
    "param_dist_qda = {'reg_param':[0.0,0.5,1.0]}"
   ]
  },
  {
   "cell_type": "markdown",
   "metadata": {},
   "source": [
    "### 13. RandomForest"
   ]
  },
  {
   "cell_type": "code",
   "execution_count": 33,
   "metadata": {},
   "outputs": [],
   "source": [
    "from sklearn.ensemble import RandomForestClassifier\n",
    "param_dist_rf = {'criterion':[\"gini\", \"entropy\"],\n",
    "             'n_estimators':[10,50,100]}"
   ]
  },
  {
   "cell_type": "markdown",
   "metadata": {},
   "source": [
    "### Other "
   ]
  },
  {
   "cell_type": "code",
   "execution_count": null,
   "metadata": {},
   "outputs": [],
   "source": [
    "### GaussianNB (no hyperparameters)\n",
    "from sklearn.naive_bayes import GaussianNB\n",
    "param_dist_gnb = None"
   ]
  },
  {
   "cell_type": "code",
   "execution_count": null,
   "metadata": {},
   "outputs": [],
   "source": [
    "###GradientBoosting (to long time)\n",
    "from sklearn.ensemble import GradientBoostingClassifier\n",
    "param_dist_gbc = {'learning_rate':[0.01,0.1,1.0],\n",
    "                  'n_estimators':[50,100,500],\n",
    "                  'criterion':['friedman_mse', 'mse', 'mae']}"
   ]
  },
  {
   "cell_type": "markdown",
   "metadata": {},
   "source": [
    "## 2. Load Data and pepare for Grid Search"
   ]
  },
  {
   "cell_type": "code",
   "execution_count": 42,
   "metadata": {
    "scrolled": true
   },
   "outputs": [
    {
     "name": "stdout",
     "output_type": "stream",
     "text": [
      "Automatically created module for IPython interactive environment\n"
     ]
    }
   ],
   "source": [
    "print(__doc__)\n",
    "\n",
    "import numpy as np\n",
    "\n",
    "from time import time\n",
    "from scipy.stats import randint as sp_randint\n",
    "\n",
    "from sklearn.model_selection import GridSearchCV\n",
    "from sklearn.model_selection import RandomizedSearchCV\n",
    "from sklearn.datasets import load_digits,load_iris\n",
    "from sklearn.ensemble import RandomForestClassifier"
   ]
  },
  {
   "cell_type": "code",
   "execution_count": 43,
   "metadata": {},
   "outputs": [],
   "source": [
    "digits = load_digits()\n",
    "X, y = digits.data, digits.target"
   ]
  },
  {
   "cell_type": "code",
   "execution_count": 103,
   "metadata": {},
   "outputs": [],
   "source": [
    "# Utility function to report best scores\n",
    "def report(results):\n",
    "    candidates = np.flatnonzero(results['rank_test_score'] == 1)\n",
    "    candidate = candidates[0]\n",
    "    #for candidate in candidates:\n",
    "    #print(type(candidates),type(candidate))\n",
    "    print(\"Mean validation score: {0:.3f} (std: {1:.3f})\".format(\n",
    "                  results['mean_test_score'][candidate],\n",
    "                  results['std_test_score'][candidate]))\n",
    "    print(\"Parameters: {0}\".format(results['params'][candidate]))\n",
    "    return results['mean_test_score'][candidate],results['params'][candidate]"
   ]
  },
  {
   "cell_type": "code",
   "execution_count": 102,
   "metadata": {},
   "outputs": [],
   "source": [
    "def grid_search_one_class(clf,param_grid):\n",
    "    grid_search = GridSearchCV(clf, param_grid=param_grid, cv=5, iid=False)\n",
    "    start = time()\n",
    "    grid_search.fit(X, y)\n",
    "    used_time = time() - start\n",
    "    print(\"GridSearchCV took %.2f seconds for %d candidate parameter settings.\"\n",
    "      % (used_time, len(grid_search.cv_results_['params'])))\n",
    "    score,parameter = report(grid_search.cv_results_)\n",
    "    return used_time,score,parameter"
   ]
  },
  {
   "cell_type": "code",
   "execution_count": null,
   "metadata": {},
   "outputs": [],
   "source": [
    "def random_search_one_class(clf,param_grid,n_iter=20):\n",
    "    print(\"The {}th random search\".format(i+1))\n",
    "    random_search = RandomizedSearchCV(clf, param_distributions=param_grid, n_iter=n_iter,cv=5, iid=False)\n",
    "    start = time()\n",
    "    random_search.fit(X, y)\n",
    "    used_time = time() - start\n",
    "    print(\"RandomSearchCV took %.2f seconds for %d candidate parameter settings.\"\n",
    "      % (used_time, len(random_search.cv_results_['params'])))\n",
    "    score,parameter = report(random_search.cv_results_)\n",
    "    return used_time,score,parameter"
   ]
  },
  {
   "cell_type": "code",
   "execution_count": 150,
   "metadata": {},
   "outputs": [],
   "source": [
    "classifiers = [AdaBoostClassifier(),\n",
    "               #BernoulliNB(),\n",
    "               DecisionTreeClassifier(),\n",
    "               ExtraTreeClassifier(),\n",
    "               #GaussianNB(),\n",
    "               GradientBoostingClassifier(),\n",
    "               KNeighborsClassifier(),\n",
    "               LinearDiscriminantAnalysis(),\n",
    "               SGDClassifier(),\n",
    "               LinearSVC(),\n",
    "               SVC(),\n",
    "               MultinomialNB(),\n",
    "               PassiveAggressiveClassifier(),\n",
    "               QuadraticDiscriminantAnalysis(),\n",
    "               RandomForestClassifier()]"
   ]
  },
  {
   "cell_type": "code",
   "execution_count": 197,
   "metadata": {},
   "outputs": [],
   "source": [
    "param_dists = [param_dist_ada,\n",
    "              #param_dist_ber,\n",
    "              param_dist_dt,\n",
    "              param_dist_et,\n",
    "              #param_dist_gnb,\n",
    "              param_dist_gbc,\n",
    "              param_dist_knn,\n",
    "              param_dist_lda,\n",
    "              param_dist_sgd,\n",
    "              param_dist_lsvc,\n",
    "              param_dist_svd,\n",
    "              param_dist_mnb,\n",
    "              param_dist_pac,\n",
    "              param_dist_qda,\n",
    "              param_dist_rf]"
   ]
  },
  {
   "cell_type": "markdown",
   "metadata": {},
   "source": [
    "### 3. Storage"
   ]
  },
  {
   "cell_type": "code",
   "execution_count": 7,
   "metadata": {},
   "outputs": [],
   "source": [
    "import pandas as pd\n",
    "gs = pd.read_csv('Storage/GS_best.csv')"
   ]
  },
  {
   "cell_type": "code",
   "execution_count": 8,
   "metadata": {},
   "outputs": [
    {
     "data": {
      "text/html": [
       "<div>\n",
       "<style scoped>\n",
       "    .dataframe tbody tr th:only-of-type {\n",
       "        vertical-align: middle;\n",
       "    }\n",
       "\n",
       "    .dataframe tbody tr th {\n",
       "        vertical-align: top;\n",
       "    }\n",
       "\n",
       "    .dataframe thead th {\n",
       "        text-align: right;\n",
       "    }\n",
       "</style>\n",
       "<table border=\"1\" class=\"dataframe\">\n",
       "  <thead>\n",
       "    <tr style=\"text-align: right;\">\n",
       "      <th></th>\n",
       "      <th>Unnamed: 0</th>\n",
       "      <th>time</th>\n",
       "      <th>parameter</th>\n",
       "      <th>score</th>\n",
       "    </tr>\n",
       "  </thead>\n",
       "  <tbody>\n",
       "    <tr>\n",
       "      <th>0</th>\n",
       "      <td>0</td>\n",
       "      <td>55.299455</td>\n",
       "      <td>{'algorithm': 'SAMME', 'learning_rate': 2, 'n_...</td>\n",
       "      <td>0.840545</td>\n",
       "    </tr>\n",
       "    <tr>\n",
       "      <th>1</th>\n",
       "      <td>1</td>\n",
       "      <td>0.171836</td>\n",
       "      <td>{'alpha': 0.01, 'fit_prior': False}</td>\n",
       "      <td>0.826450</td>\n",
       "    </tr>\n",
       "    <tr>\n",
       "      <th>2</th>\n",
       "      <td>2</td>\n",
       "      <td>1.280948</td>\n",
       "      <td>{'criterion': 'entropy', 'min_samples_leaf': 2...</td>\n",
       "      <td>0.806872</td>\n",
       "    </tr>\n",
       "    <tr>\n",
       "      <th>3</th>\n",
       "      <td>3</td>\n",
       "      <td>0.093728</td>\n",
       "      <td>{'criterion': 'entropy', 'min_samples_split': 2}</td>\n",
       "      <td>0.742219</td>\n",
       "    </tr>\n",
       "    <tr>\n",
       "      <th>4</th>\n",
       "      <td>4</td>\n",
       "      <td>2.952457</td>\n",
       "      <td>{'n_neighbors': 3, 'p': 2, 'weights': 'distance'}</td>\n",
       "      <td>0.966665</td>\n",
       "    </tr>\n",
       "    <tr>\n",
       "      <th>5</th>\n",
       "      <td>5</td>\n",
       "      <td>0.624827</td>\n",
       "      <td>{'n_components': 1, 'tol': 0.001}</td>\n",
       "      <td>0.908142</td>\n",
       "    </tr>\n",
       "    <tr>\n",
       "      <th>6</th>\n",
       "      <td>6</td>\n",
       "      <td>129.032135</td>\n",
       "      <td>{'alpha': 1.0, 'loss': 'hinge', 'penalty': 'l2'}</td>\n",
       "      <td>0.929208</td>\n",
       "    </tr>\n",
       "    <tr>\n",
       "      <th>7</th>\n",
       "      <td>7</td>\n",
       "      <td>8.279301</td>\n",
       "      <td>{'C': 0.01, 'tol': 0.001}</td>\n",
       "      <td>0.922142</td>\n",
       "    </tr>\n",
       "    <tr>\n",
       "      <th>8</th>\n",
       "      <td>8</td>\n",
       "      <td>35.226117</td>\n",
       "      <td>{'C': 10.0, 'tol': 1.0}</td>\n",
       "      <td>0.538534</td>\n",
       "    </tr>\n",
       "    <tr>\n",
       "      <th>9</th>\n",
       "      <td>9</td>\n",
       "      <td>0.078076</td>\n",
       "      <td>{'alpha': 10, 'fit_prior': True}</td>\n",
       "      <td>0.875387</td>\n",
       "    </tr>\n",
       "    <tr>\n",
       "      <th>10</th>\n",
       "      <td>10</td>\n",
       "      <td>3.795980</td>\n",
       "      <td>{'C': 1.0, 'loss': 'squared_hinge', 'tol': 0.01}</td>\n",
       "      <td>0.921551</td>\n",
       "    </tr>\n",
       "    <tr>\n",
       "      <th>11</th>\n",
       "      <td>11</td>\n",
       "      <td>0.187458</td>\n",
       "      <td>{'reg_param': 0.5}</td>\n",
       "      <td>0.957280</td>\n",
       "    </tr>\n",
       "    <tr>\n",
       "      <th>12</th>\n",
       "      <td>12</td>\n",
       "      <td>4.030300</td>\n",
       "      <td>{'criterion': 'gini', 'n_estimators': 100}</td>\n",
       "      <td>0.941625</td>\n",
       "    </tr>\n",
       "  </tbody>\n",
       "</table>\n",
       "</div>"
      ],
      "text/plain": [
       "    Unnamed: 0        time                                          parameter  \\\n",
       "0            0   55.299455  {'algorithm': 'SAMME', 'learning_rate': 2, 'n_...   \n",
       "1            1    0.171836                {'alpha': 0.01, 'fit_prior': False}   \n",
       "2            2    1.280948  {'criterion': 'entropy', 'min_samples_leaf': 2...   \n",
       "3            3    0.093728   {'criterion': 'entropy', 'min_samples_split': 2}   \n",
       "4            4    2.952457  {'n_neighbors': 3, 'p': 2, 'weights': 'distance'}   \n",
       "5            5    0.624827                  {'n_components': 1, 'tol': 0.001}   \n",
       "6            6  129.032135   {'alpha': 1.0, 'loss': 'hinge', 'penalty': 'l2'}   \n",
       "7            7    8.279301                          {'C': 0.01, 'tol': 0.001}   \n",
       "8            8   35.226117                            {'C': 10.0, 'tol': 1.0}   \n",
       "9            9    0.078076                   {'alpha': 10, 'fit_prior': True}   \n",
       "10          10    3.795980   {'C': 1.0, 'loss': 'squared_hinge', 'tol': 0.01}   \n",
       "11          11    0.187458                                 {'reg_param': 0.5}   \n",
       "12          12    4.030300         {'criterion': 'gini', 'n_estimators': 100}   \n",
       "\n",
       "       score  \n",
       "0   0.840545  \n",
       "1   0.826450  \n",
       "2   0.806872  \n",
       "3   0.742219  \n",
       "4   0.966665  \n",
       "5   0.908142  \n",
       "6   0.929208  \n",
       "7   0.922142  \n",
       "8   0.538534  \n",
       "9   0.875387  \n",
       "10  0.921551  \n",
       "11  0.957280  \n",
       "12  0.941625  "
      ]
     },
     "execution_count": 8,
     "metadata": {},
     "output_type": "execute_result"
    }
   ],
   "source": [
    "gs"
   ]
  },
  {
   "cell_type": "code",
   "execution_count": 13,
   "metadata": {},
   "outputs": [
    {
     "data": {
      "text/plain": [
       "241.052618265152"
      ]
     },
     "execution_count": 13,
     "metadata": {},
     "output_type": "execute_result"
    }
   ],
   "source": [
    "gs_time = gs['time'].sum()\n",
    "gs_time"
   ]
  },
  {
   "cell_type": "code",
   "execution_count": 9,
   "metadata": {},
   "outputs": [],
   "source": [
    "rs = pd.read_csv('Storage/RS_best.csv')"
   ]
  },
  {
   "cell_type": "code",
   "execution_count": 10,
   "metadata": {},
   "outputs": [
    {
     "data": {
      "text/html": [
       "<div>\n",
       "<style scoped>\n",
       "    .dataframe tbody tr th:only-of-type {\n",
       "        vertical-align: middle;\n",
       "    }\n",
       "\n",
       "    .dataframe tbody tr th {\n",
       "        vertical-align: top;\n",
       "    }\n",
       "\n",
       "    .dataframe thead th {\n",
       "        text-align: right;\n",
       "    }\n",
       "</style>\n",
       "<table border=\"1\" class=\"dataframe\">\n",
       "  <thead>\n",
       "    <tr style=\"text-align: right;\">\n",
       "      <th></th>\n",
       "      <th>Unnamed: 0</th>\n",
       "      <th>time</th>\n",
       "      <th>parameter</th>\n",
       "      <th>score</th>\n",
       "    </tr>\n",
       "  </thead>\n",
       "  <tbody>\n",
       "    <tr>\n",
       "      <th>0</th>\n",
       "      <td>0</td>\n",
       "      <td>35.569784</td>\n",
       "      <td>{'n_estimators': 500, 'learning_rate': 2, 'alg...</td>\n",
       "      <td>0.840545</td>\n",
       "    </tr>\n",
       "    <tr>\n",
       "      <th>1</th>\n",
       "      <td>1</td>\n",
       "      <td>0.171804</td>\n",
       "      <td>{'fit_prior': False, 'alpha': 0.01}</td>\n",
       "      <td>0.826450</td>\n",
       "    </tr>\n",
       "    <tr>\n",
       "      <th>2</th>\n",
       "      <td>2</td>\n",
       "      <td>0.718610</td>\n",
       "      <td>{'min_samples_split': 2, 'min_samples_leaf': 2...</td>\n",
       "      <td>0.808578</td>\n",
       "    </tr>\n",
       "    <tr>\n",
       "      <th>3</th>\n",
       "      <td>3</td>\n",
       "      <td>0.093727</td>\n",
       "      <td>{'min_samples_split': 2, 'criterion': 'gini'}</td>\n",
       "      <td>0.731754</td>\n",
       "    </tr>\n",
       "    <tr>\n",
       "      <th>4</th>\n",
       "      <td>4</td>\n",
       "      <td>2.561895</td>\n",
       "      <td>{'weights': 'distance', 'p': 2, 'n_neighbors': 3}</td>\n",
       "      <td>0.966665</td>\n",
       "    </tr>\n",
       "    <tr>\n",
       "      <th>5</th>\n",
       "      <td>5</td>\n",
       "      <td>0.624827</td>\n",
       "      <td>{'tol': 0.001, 'n_components': 1}</td>\n",
       "      <td>0.908142</td>\n",
       "    </tr>\n",
       "    <tr>\n",
       "      <th>6</th>\n",
       "      <td>6</td>\n",
       "      <td>13.762386</td>\n",
       "      <td>{'penalty': 'l2', 'loss': 'hinge', 'alpha': 1.0}</td>\n",
       "      <td>0.925915</td>\n",
       "    </tr>\n",
       "    <tr>\n",
       "      <th>7</th>\n",
       "      <td>7</td>\n",
       "      <td>4.592668</td>\n",
       "      <td>{'tol': 0.1, 'C': 0.1}</td>\n",
       "      <td>0.919351</td>\n",
       "    </tr>\n",
       "    <tr>\n",
       "      <th>8</th>\n",
       "      <td>8</td>\n",
       "      <td>18.152009</td>\n",
       "      <td>{'tol': 1.0, 'C': 1.0}</td>\n",
       "      <td>0.533548</td>\n",
       "    </tr>\n",
       "    <tr>\n",
       "      <th>9</th>\n",
       "      <td>9</td>\n",
       "      <td>0.078078</td>\n",
       "      <td>{'fit_prior': True, 'alpha': 10}</td>\n",
       "      <td>0.875387</td>\n",
       "    </tr>\n",
       "    <tr>\n",
       "      <th>10</th>\n",
       "      <td>10</td>\n",
       "      <td>1.062249</td>\n",
       "      <td>{'tol': 0.1, 'loss': 'hinge', 'C': 0.01}</td>\n",
       "      <td>0.921531</td>\n",
       "    </tr>\n",
       "    <tr>\n",
       "      <th>11</th>\n",
       "      <td>11</td>\n",
       "      <td>0.203078</td>\n",
       "      <td>{'reg_param': 0.5}</td>\n",
       "      <td>0.957280</td>\n",
       "    </tr>\n",
       "    <tr>\n",
       "      <th>12</th>\n",
       "      <td>12</td>\n",
       "      <td>4.217757</td>\n",
       "      <td>{'n_estimators': 100, 'criterion': 'gini'}</td>\n",
       "      <td>0.939960</td>\n",
       "    </tr>\n",
       "  </tbody>\n",
       "</table>\n",
       "</div>"
      ],
      "text/plain": [
       "    Unnamed: 0       time                                          parameter  \\\n",
       "0            0  35.569784  {'n_estimators': 500, 'learning_rate': 2, 'alg...   \n",
       "1            1   0.171804                {'fit_prior': False, 'alpha': 0.01}   \n",
       "2            2   0.718610  {'min_samples_split': 2, 'min_samples_leaf': 2...   \n",
       "3            3   0.093727      {'min_samples_split': 2, 'criterion': 'gini'}   \n",
       "4            4   2.561895  {'weights': 'distance', 'p': 2, 'n_neighbors': 3}   \n",
       "5            5   0.624827                  {'tol': 0.001, 'n_components': 1}   \n",
       "6            6  13.762386   {'penalty': 'l2', 'loss': 'hinge', 'alpha': 1.0}   \n",
       "7            7   4.592668                             {'tol': 0.1, 'C': 0.1}   \n",
       "8            8  18.152009                             {'tol': 1.0, 'C': 1.0}   \n",
       "9            9   0.078078                   {'fit_prior': True, 'alpha': 10}   \n",
       "10          10   1.062249           {'tol': 0.1, 'loss': 'hinge', 'C': 0.01}   \n",
       "11          11   0.203078                                 {'reg_param': 0.5}   \n",
       "12          12   4.217757         {'n_estimators': 100, 'criterion': 'gini'}   \n",
       "\n",
       "       score  \n",
       "0   0.840545  \n",
       "1   0.826450  \n",
       "2   0.808578  \n",
       "3   0.731754  \n",
       "4   0.966665  \n",
       "5   0.908142  \n",
       "6   0.925915  \n",
       "7   0.919351  \n",
       "8   0.533548  \n",
       "9   0.875387  \n",
       "10  0.921531  \n",
       "11  0.957280  \n",
       "12  0.939960  "
      ]
     },
     "execution_count": 10,
     "metadata": {},
     "output_type": "execute_result"
    }
   ],
   "source": [
    "rs"
   ]
  },
  {
   "cell_type": "code",
   "execution_count": 14,
   "metadata": {
    "scrolled": true
   },
   "outputs": [
    {
     "data": {
      "text/plain": [
       "81.80887269973755"
      ]
     },
     "execution_count": 14,
     "metadata": {},
     "output_type": "execute_result"
    }
   ],
   "source": [
    "rs_time = rs['time'].sum()\n",
    "rs_time"
   ]
  },
  {
   "cell_type": "code",
   "execution_count": null,
   "metadata": {},
   "outputs": [],
   "source": []
  }
 ],
 "metadata": {
  "kernelspec": {
   "display_name": "Python 3",
   "language": "python",
   "name": "python3"
  },
  "language_info": {
   "codemirror_mode": {
    "name": "ipython",
    "version": 3
   },
   "file_extension": ".py",
   "mimetype": "text/x-python",
   "name": "python",
   "nbconvert_exporter": "python",
   "pygments_lexer": "ipython3",
   "version": "3.7.3"
  }
 },
 "nbformat": 4,
 "nbformat_minor": 2
}
