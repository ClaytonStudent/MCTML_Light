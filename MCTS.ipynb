{
 "cells": [
  {
   "cell_type": "code",
   "execution_count": 1,
   "metadata": {
    "scrolled": true
   },
   "outputs": [
    {
     "name": "stdout",
     "output_type": "stream",
     "text": [
      "Loading the dataset: datasets/dataset_3.csv\n"
     ]
    }
   ],
   "source": [
    "from agent import Agent\n",
    "from evaluator import policy_value_fn\n",
    "from time import time"
   ]
  },
  {
   "cell_type": "code",
   "execution_count": 2,
   "metadata": {},
   "outputs": [],
   "source": [
    "n_playout = 200\n",
    "agent = Agent(policy_value_fn,n_playout=n_playout)"
   ]
  },
  {
   "cell_type": "code",
   "execution_count": 3,
   "metadata": {
    "scrolled": true
   },
   "outputs": [
    {
     "name": "stdout",
     "output_type": "stream",
     "text": [
      "Playout:  1\n",
      "Playout:  2\n",
      "Playout:  3\n",
      "Playout:  4\n",
      "Playout:  5\n",
      "Playout:  6\n",
      "Playout:  7\n",
      "Playout:  8\n",
      "Playout:  9\n",
      "Playout:  10\n",
      "Playout:  11\n",
      "Playout:  12\n",
      "Playout:  13\n",
      "Playout:  14\n",
      "Playout:  15\n",
      "Playout:  16\n",
      "Playout:  17\n",
      "Playout:  18\n",
      "Playout:  19\n",
      "Playout:  20\n",
      "(0,)\n",
      "Playout:  21\n",
      "Playout:  22\n",
      "Playout:  23\n",
      "Playout:  24\n",
      "Playout:  25\n",
      "Playout:  26\n",
      "Playout:  27\n",
      "Playout:  28\n",
      "Playout:  29\n",
      "Playout:  30\n",
      "Playout:  31\n",
      "Playout:  32\n",
      "Playout:  33\n",
      "Playout:  34\n",
      "Playout:  35\n",
      "Playout:  36\n",
      "Playout:  37\n",
      "Playout:  38\n",
      "Playout:  39\n",
      "Playout:  40\n",
      "(0,)\n",
      "Playout:  41\n",
      "Playout:  42\n",
      "Playout:  43\n",
      "Playout:  44\n",
      "Playout:  45\n",
      "Playout:  46\n",
      "Playout:  47\n",
      "Playout:  48\n",
      "Playout:  49\n",
      "Playout:  50\n",
      "Playout:  51\n",
      "Playout:  52\n",
      "Playout:  53\n",
      "Playout:  54\n",
      "Playout:  55\n",
      "Playout:  56\n",
      "Playout:  57\n",
      "Playout:  58\n",
      "Playout:  59\n",
      "Playout:  60\n",
      "(5, 4)\n",
      "Training the network\n",
      "Playout:  61\n",
      "Playout:  62\n",
      "Playout:  63\n",
      "Playout:  64\n",
      "Playout:  65\n",
      "Playout:  66\n",
      "Playout:  67\n",
      "Playout:  68\n",
      "Playout:  69\n",
      "Playout:  70\n",
      "Playout:  71\n",
      "Playout:  72\n",
      "Playout:  73\n",
      "Playout:  74\n",
      "Playout:  75\n",
      "Playout:  76\n",
      "Playout:  77\n",
      "Playout:  78\n",
      "Playout:  79\n",
      "Playout:  80\n",
      "(5, 4)\n",
      "Training the network\n",
      "Playout:  81\n",
      "Playout:  82\n",
      "Playout:  83\n",
      "Playout:  84\n",
      "Playout:  85\n",
      "Playout:  86\n",
      "Playout:  87\n",
      "Playout:  88\n",
      "Playout:  89\n",
      "Playout:  90\n",
      "Playout:  91\n",
      "Playout:  92\n",
      "Playout:  93\n",
      "Playout:  94\n",
      "Playout:  95\n",
      "Playout:  96\n"
     ]
    },
    {
     "name": "stderr",
     "output_type": "stream",
     "text": [
      "WARNING: Logging before flag parsing goes to stderr.\n",
      "E0920 22:57:47.669100 4454913472 ultratb.py:149] Internal Python error in the inspect module.\n",
      "Below is the traceback from this internal error.\n",
      "\n"
     ]
    },
    {
     "name": "stdout",
     "output_type": "stream",
     "text": [
      "Traceback (most recent call last):\n",
      "  File \"/Users/TobiasChen/anaconda3/lib/python3.7/site-packages/IPython/core/interactiveshell.py\", line 3296, in run_code\n",
      "    exec(code_obj, self.user_global_ns, self.user_ns)\n",
      "  File \"<ipython-input-3-e415b123a6f0>\", line 1, in <module>\n",
      "    agent.play_outs()\n",
      "  File \"/Users/TobiasChen/Desktop/Flex/agent.py\", line 73, in play_outs\n",
      "    self.mcts._palyouts()\n",
      "  File \"/Users/TobiasChen/Desktop/Flex/agent.py\", line 43, in _palyouts\n",
      "    self._playout()\n",
      "  File \"/Users/TobiasChen/Desktop/Flex/agent.py\", line 37, in _playout\n",
      "    leaf_value = self._evaluate_rollout(copy.deepcopy(node))\n",
      "  File \"/Users/TobiasChen/Desktop/Flex/agent.py\", line 57, in _evaluate_rollout\n",
      "    score = get_score(node.state.path)\n",
      "  File \"/Users/TobiasChen/Desktop/Flex/evaluator.py\", line 33, in get_score\n",
      "    score = cross_val_score(clf, X, y, cv=5)\n",
      "  File \"/Users/TobiasChen/anaconda3/lib/python3.7/site-packages/sklearn/model_selection/_validation.py\", line 402, in cross_val_score\n",
      "    error_score=error_score)\n",
      "  File \"/Users/TobiasChen/anaconda3/lib/python3.7/site-packages/sklearn/model_selection/_validation.py\", line 240, in cross_validate\n",
      "    for train, test in cv.split(X, y, groups))\n",
      "  File \"/Users/TobiasChen/anaconda3/lib/python3.7/site-packages/sklearn/externals/joblib/parallel.py\", line 917, in __call__\n",
      "    if self.dispatch_one_batch(iterator):\n",
      "  File \"/Users/TobiasChen/anaconda3/lib/python3.7/site-packages/sklearn/externals/joblib/parallel.py\", line 759, in dispatch_one_batch\n",
      "    self._dispatch(tasks)\n",
      "  File \"/Users/TobiasChen/anaconda3/lib/python3.7/site-packages/sklearn/externals/joblib/parallel.py\", line 716, in _dispatch\n",
      "    job = self._backend.apply_async(batch, callback=cb)\n",
      "  File \"/Users/TobiasChen/anaconda3/lib/python3.7/site-packages/sklearn/externals/joblib/_parallel_backends.py\", line 182, in apply_async\n",
      "    result = ImmediateResult(func)\n",
      "  File \"/Users/TobiasChen/anaconda3/lib/python3.7/site-packages/sklearn/externals/joblib/_parallel_backends.py\", line 549, in __init__\n",
      "    self.results = batch()\n",
      "  File \"/Users/TobiasChen/anaconda3/lib/python3.7/site-packages/sklearn/externals/joblib/parallel.py\", line 225, in __call__\n",
      "    for func, args, kwargs in self.items]\n",
      "  File \"/Users/TobiasChen/anaconda3/lib/python3.7/site-packages/sklearn/externals/joblib/parallel.py\", line 225, in <listcomp>\n",
      "    for func, args, kwargs in self.items]\n",
      "  File \"/Users/TobiasChen/anaconda3/lib/python3.7/site-packages/sklearn/model_selection/_validation.py\", line 528, in _fit_and_score\n",
      "    estimator.fit(X_train, y_train, **fit_params)\n",
      "  File \"/Users/TobiasChen/anaconda3/lib/python3.7/site-packages/sklearn/ensemble/weight_boosting.py\", line 412, in fit\n",
      "    return super(AdaBoostClassifier, self).fit(X, y, sample_weight)\n",
      "  File \"/Users/TobiasChen/anaconda3/lib/python3.7/site-packages/sklearn/ensemble/weight_boosting.py\", line 143, in fit\n",
      "    random_state)\n",
      "  File \"/Users/TobiasChen/anaconda3/lib/python3.7/site-packages/sklearn/ensemble/weight_boosting.py\", line 476, in _boost\n",
      "    random_state)\n",
      "  File \"/Users/TobiasChen/anaconda3/lib/python3.7/site-packages/sklearn/ensemble/weight_boosting.py\", line 540, in _boost_discrete\n",
      "    estimator.fit(X, y, sample_weight=sample_weight)\n",
      "  File \"/Users/TobiasChen/anaconda3/lib/python3.7/site-packages/sklearn/tree/tree.py\", line 801, in fit\n",
      "    X_idx_sorted=X_idx_sorted)\n",
      "  File \"/Users/TobiasChen/anaconda3/lib/python3.7/site-packages/sklearn/tree/tree.py\", line 366, in fit\n",
      "    builder.build(self.tree_, X, y, sample_weight, X_idx_sorted)\n",
      "KeyboardInterrupt\n",
      "\n",
      "During handling of the above exception, another exception occurred:\n",
      "\n",
      "Traceback (most recent call last):\n",
      "  File \"/Users/TobiasChen/anaconda3/lib/python3.7/site-packages/IPython/core/interactiveshell.py\", line 2033, in showtraceback\n",
      "    stb = value._render_traceback_()\n",
      "AttributeError: 'KeyboardInterrupt' object has no attribute '_render_traceback_'\n",
      "\n",
      "During handling of the above exception, another exception occurred:\n",
      "\n",
      "Traceback (most recent call last):\n",
      "  File \"/Users/TobiasChen/anaconda3/lib/python3.7/site-packages/IPython/core/ultratb.py\", line 1095, in get_records\n",
      "    return _fixed_getinnerframes(etb, number_of_lines_of_context, tb_offset)\n",
      "  File \"/Users/TobiasChen/anaconda3/lib/python3.7/site-packages/IPython/core/ultratb.py\", line 313, in wrapped\n",
      "    return f(*args, **kwargs)\n",
      "  File \"/Users/TobiasChen/anaconda3/lib/python3.7/site-packages/IPython/core/ultratb.py\", line 347, in _fixed_getinnerframes\n",
      "    records = fix_frame_records_filenames(inspect.getinnerframes(etb, context))\n",
      "  File \"/Users/TobiasChen/anaconda3/lib/python3.7/inspect.py\", line 1502, in getinnerframes\n",
      "    frameinfo = (tb.tb_frame,) + getframeinfo(tb, context)\n",
      "  File \"/Users/TobiasChen/anaconda3/lib/python3.7/inspect.py\", line 1460, in getframeinfo\n",
      "    filename = getsourcefile(frame) or getfile(frame)\n",
      "  File \"/Users/TobiasChen/anaconda3/lib/python3.7/inspect.py\", line 696, in getsourcefile\n",
      "    if getattr(getmodule(object, filename), '__loader__', None) is not None:\n",
      "  File \"/Users/TobiasChen/anaconda3/lib/python3.7/inspect.py\", line 739, in getmodule\n",
      "    f = getabsfile(module)\n",
      "  File \"/Users/TobiasChen/anaconda3/lib/python3.7/inspect.py\", line 708, in getabsfile\n",
      "    _filename = getsourcefile(object) or getfile(object)\n",
      "  File \"/Users/TobiasChen/anaconda3/lib/python3.7/inspect.py\", line 693, in getsourcefile\n",
      "    if os.path.exists(filename):\n",
      "  File \"/Users/TobiasChen/anaconda3/lib/python3.7/genericpath.py\", line 19, in exists\n",
      "    os.stat(path)\n",
      "KeyboardInterrupt\n"
     ]
    },
    {
     "ename": "KeyboardInterrupt",
     "evalue": "",
     "output_type": "error",
     "traceback": [
      "\u001b[0;31m---------------------------------------------------------------------------\u001b[0m"
     ]
    }
   ],
   "source": [
    "agent.play_outs()"
   ]
  },
  {
   "cell_type": "code",
   "execution_count": null,
   "metadata": {},
   "outputs": [],
   "source": []
  },
  {
   "cell_type": "code",
   "execution_count": null,
   "metadata": {},
   "outputs": [],
   "source": [
    "paths = agent.mcts._storage.ps"
   ]
  },
  {
   "cell_type": "code",
   "execution_count": null,
   "metadata": {
    "scrolled": true
   },
   "outputs": [],
   "source": [
    "for path in paths:\n",
    "    print(path[0])"
   ]
  },
  {
   "cell_type": "code",
   "execution_count": null,
   "metadata": {},
   "outputs": [],
   "source": [
    "nodes = agent.mcts._mct.nodes"
   ]
  },
  {
   "cell_type": "code",
   "execution_count": null,
   "metadata": {
    "scrolled": true
   },
   "outputs": [],
   "source": [
    "for node in nodes:\n",
    "    print(node.state.path)"
   ]
  },
  {
   "cell_type": "markdown",
   "metadata": {},
   "source": [
    "#### Traing NN"
   ]
  },
  {
   "cell_type": "code",
   "execution_count": 1,
   "metadata": {},
   "outputs": [],
   "source": [
    "import numpy as np"
   ]
  },
  {
   "cell_type": "code",
   "execution_count": null,
   "metadata": {},
   "outputs": [],
   "source": [
    "from network import run_nn"
   ]
  },
  {
   "cell_type": "code",
   "execution_count": 3,
   "metadata": {},
   "outputs": [],
   "source": [
    "X = np.load('X.npy')"
   ]
  },
  {
   "cell_type": "code",
   "execution_count": 4,
   "metadata": {},
   "outputs": [],
   "source": [
    "y = np.load('y.npy')"
   ]
  },
  {
   "cell_type": "code",
   "execution_count": 5,
   "metadata": {},
   "outputs": [
    {
     "data": {
      "text/plain": [
       "array([[1, 0, 0, 0],\n",
       "       [2, 0, 0, 0],\n",
       "       [3, 0, 0, 0],\n",
       "       [4, 0, 0, 0],\n",
       "       [5, 0, 0, 0]])"
      ]
     },
     "execution_count": 5,
     "metadata": {},
     "output_type": "execute_result"
    }
   ],
   "source": [
    "X"
   ]
  },
  {
   "cell_type": "code",
   "execution_count": 6,
   "metadata": {
    "scrolled": true
   },
   "outputs": [
    {
     "data": {
      "text/plain": [
       "array([[0.13507309, 0.11368707, 0.1232889 , 0.1273829 , 0.11380853,\n",
       "        0.13608772, 0.1273829 , 0.1232889 ],\n",
       "       [0.12515475, 0.12482553, 0.12418856, 0.12482553, 0.12418856,\n",
       "        0.12628345, 0.12466141, 0.1258722 ],\n",
       "       [0.12592158, 0.12530087, 0.12737126, 0.12493853, 0.12351531,\n",
       "        0.12540476, 0.12351531, 0.12403237],\n",
       "       [0.12609705, 0.13185017, 0.15851802, 0.14762317, 0.0899424 ,\n",
       "        0.11156078, 0.14873232, 0.0856761 ],\n",
       "       [0.12252039, 0.12436161, 0.12619464, 0.12664527, 0.12367674,\n",
       "        0.12542767, 0.12487078, 0.1263029 ]])"
      ]
     },
     "execution_count": 6,
     "metadata": {},
     "output_type": "execute_result"
    }
   ],
   "source": [
    "y"
   ]
  },
  {
   "cell_type": "code",
   "execution_count": 7,
   "metadata": {},
   "outputs": [
    {
     "data": {
      "text/plain": [
       "(5, 4)"
      ]
     },
     "execution_count": 7,
     "metadata": {},
     "output_type": "execute_result"
    }
   ],
   "source": [
    "X.shape"
   ]
  },
  {
   "cell_type": "code",
   "execution_count": 8,
   "metadata": {},
   "outputs": [
    {
     "data": {
      "text/plain": [
       "(5, 8)"
      ]
     },
     "execution_count": 8,
     "metadata": {},
     "output_type": "execute_result"
    }
   ],
   "source": [
    "y.shape"
   ]
  },
  {
   "cell_type": "code",
   "execution_count": 10,
   "metadata": {
    "scrolled": true
   },
   "outputs": [
    {
     "name": "stdout",
     "output_type": "stream",
     "text": [
      "1/1 [==============================] - 0s 14ms/sample - loss: 3.2767e-04\n",
      "Train on 3 samples, validate on 1 samples\n",
      "Epoch 1/50\n",
      "3/3 [==============================] - 0s 26ms/sample - loss: 6.3851e-05 - val_loss: 2.9610e-05\n",
      "Epoch 2/50\n",
      "3/3 [==============================] - 0s 2ms/sample - loss: 6.3842e-05 - val_loss: 2.9441e-05\n",
      "Epoch 3/50\n",
      "3/3 [==============================] - 0s 2ms/sample - loss: 6.3395e-05 - val_loss: 2.8982e-05\n",
      "Epoch 4/50\n",
      "3/3 [==============================] - 0s 2ms/sample - loss: 6.2579e-05 - val_loss: 2.8280e-05\n",
      "Epoch 5/50\n",
      "3/3 [==============================] - 0s 2ms/sample - loss: 6.1475e-05 - val_loss: 2.7377e-05\n",
      "Epoch 6/50\n",
      "3/3 [==============================] - 0s 2ms/sample - loss: 6.0247e-05 - val_loss: 2.6314e-05\n",
      "Epoch 7/50\n",
      "3/3 [==============================] - 0s 3ms/sample - loss: 5.8822e-05 - val_loss: 2.5128e-05\n",
      "Epoch 8/50\n",
      "3/3 [==============================] - 0s 3ms/sample - loss: 5.7245e-05 - val_loss: 2.3843e-05\n",
      "Epoch 9/50\n",
      "3/3 [==============================] - 0s 3ms/sample - loss: 5.5557e-05 - val_loss: 2.2501e-05\n",
      "Epoch 10/50\n",
      "3/3 [==============================] - 0s 2ms/sample - loss: 5.3849e-05 - val_loss: 2.1128e-05\n",
      "Epoch 11/50\n",
      "3/3 [==============================] - 0s 4ms/sample - loss: 5.2164e-05 - val_loss: 1.9749e-05\n",
      "Epoch 12/50\n",
      "3/3 [==============================] - 0s 2ms/sample - loss: 5.0460e-05 - val_loss: 1.8384e-05\n",
      "Epoch 13/50\n",
      "3/3 [==============================] - 0s 3ms/sample - loss: 4.8758e-05 - val_loss: 1.7049e-05\n",
      "Epoch 14/50\n",
      "3/3 [==============================] - 0s 2ms/sample - loss: 4.7077e-05 - val_loss: 1.5760e-05\n",
      "Epoch 15/50\n",
      "3/3 [==============================] - 0s 3ms/sample - loss: 4.5432e-05 - val_loss: 1.4526e-05\n",
      "Epoch 16/50\n",
      "3/3 [==============================] - 0s 2ms/sample - loss: 4.3834e-05 - val_loss: 1.3358e-05\n",
      "Epoch 17/50\n",
      "3/3 [==============================] - 0s 2ms/sample - loss: 4.2295e-05 - val_loss: 1.2261e-05\n",
      "Epoch 18/50\n",
      "3/3 [==============================] - 0s 2ms/sample - loss: 4.0813e-05 - val_loss: 1.1239e-05\n",
      "Epoch 19/50\n",
      "3/3 [==============================] - 0s 2ms/sample - loss: 3.9393e-05 - val_loss: 1.0295e-05\n",
      "Epoch 20/50\n",
      "3/3 [==============================] - 0s 3ms/sample - loss: 3.8038e-05 - val_loss: 9.4282e-06\n",
      "Epoch 21/50\n",
      "3/3 [==============================] - 0s 2ms/sample - loss: 3.6750e-05 - val_loss: 8.6397e-06\n",
      "Epoch 22/50\n",
      "3/3 [==============================] - 0s 3ms/sample - loss: 3.5542e-05 - val_loss: 7.9295e-06\n",
      "Epoch 23/50\n",
      "3/3 [==============================] - 0s 2ms/sample - loss: 3.4382e-05 - val_loss: 7.2948e-06\n",
      "Epoch 24/50\n",
      "3/3 [==============================] - 0s 2ms/sample - loss: 3.3289e-05 - val_loss: 6.7307e-06\n",
      "Epoch 25/50\n",
      "3/3 [==============================] - 0s 2ms/sample - loss: 3.2264e-05 - val_loss: 6.2336e-06\n",
      "Epoch 26/50\n",
      "3/3 [==============================] - 0s 2ms/sample - loss: 3.1293e-05 - val_loss: 5.8001e-06\n",
      "Epoch 27/50\n",
      "3/3 [==============================] - 0s 2ms/sample - loss: 3.0380e-05 - val_loss: 5.4262e-06\n",
      "Epoch 28/50\n",
      "3/3 [==============================] - 0s 1ms/sample - loss: 2.9521e-05 - val_loss: 5.1081e-06\n",
      "Epoch 29/50\n",
      "3/3 [==============================] - 0s 2ms/sample - loss: 2.8714e-05 - val_loss: 4.8417e-06\n",
      "Epoch 30/50\n",
      "3/3 [==============================] - 0s 2ms/sample - loss: 2.7957e-05 - val_loss: 4.6230e-06\n",
      "Epoch 31/50\n",
      "3/3 [==============================] - 0s 2ms/sample - loss: 2.7256e-05 - val_loss: 4.4488e-06\n",
      "Epoch 32/50\n",
      "3/3 [==============================] - 0s 2ms/sample - loss: 2.6578e-05 - val_loss: 4.3142e-06\n",
      "Epoch 33/50\n",
      "3/3 [==============================] - 0s 3ms/sample - loss: 2.5951e-05 - val_loss: 4.2154e-06\n",
      "Epoch 34/50\n",
      "3/3 [==============================] - 0s 2ms/sample - loss: 2.5361e-05 - val_loss: 4.1491e-06\n",
      "Epoch 35/50\n",
      "3/3 [==============================] - 0s 3ms/sample - loss: 2.4806e-05 - val_loss: 4.1118e-06\n",
      "Epoch 36/50\n",
      "3/3 [==============================] - 0s 3ms/sample - loss: 2.4284e-05 - val_loss: 4.1004e-06\n",
      "Epoch 37/50\n",
      "3/3 [==============================] - 0s 2ms/sample - loss: 2.3791e-05 - val_loss: 4.1118e-06\n",
      "Epoch 38/50\n",
      "3/3 [==============================] - 0s 4ms/sample - loss: 2.3326e-05 - val_loss: 4.1434e-06\n",
      "Epoch 39/50\n",
      "3/3 [==============================] - 0s 3ms/sample - loss: 2.2887e-05 - val_loss: 4.1926e-06\n",
      "Epoch 40/50\n",
      "3/3 [==============================] - 0s 2ms/sample - loss: 2.2474e-05 - val_loss: 4.2086e-06\n",
      "Epoch 41/50\n",
      "3/3 [==============================] - 0s 2ms/sample - loss: 2.2083e-05 - val_loss: 4.2114e-06\n",
      "Epoch 42/50\n",
      "3/3 [==============================] - 0s 2ms/sample - loss: 2.1714e-05 - val_loss: 4.2278e-06\n",
      "Epoch 43/50\n",
      "3/3 [==============================] - 0s 3ms/sample - loss: 2.1364e-05 - val_loss: 4.2560e-06\n",
      "Epoch 44/50\n",
      "3/3 [==============================] - 0s 3ms/sample - loss: 2.1034e-05 - val_loss: 4.2946e-06\n",
      "Epoch 45/50\n",
      "3/3 [==============================] - 0s 1ms/sample - loss: 2.0720e-05 - val_loss: 4.3423e-06\n",
      "Epoch 46/50\n",
      "3/3 [==============================] - 0s 3ms/sample - loss: 2.0423e-05 - val_loss: 4.3979e-06\n",
      "Epoch 47/50\n",
      "3/3 [==============================] - 0s 2ms/sample - loss: 2.0141e-05 - val_loss: 4.4602e-06\n",
      "Epoch 48/50\n",
      "3/3 [==============================] - 0s 2ms/sample - loss: 1.9873e-05 - val_loss: 4.5283e-06\n",
      "Epoch 49/50\n",
      "3/3 [==============================] - 0s 2ms/sample - loss: 1.9618e-05 - val_loss: 4.6012e-06\n",
      "Epoch 50/50\n",
      "3/3 [==============================] - 0s 2ms/sample - loss: 1.9376e-05 - val_loss: 4.6781e-06\n",
      "1/1 [==============================] - 0s 1ms/sample - loss: 5.8853e-04\n"
     ]
    }
   ],
   "source": [
    "run_nn(X,y,'Test_nn.h5')"
   ]
  },
  {
   "cell_type": "code",
   "execution_count": null,
   "metadata": {},
   "outputs": [],
   "source": []
  }
 ],
 "metadata": {
  "kernelspec": {
   "display_name": "Python 3",
   "language": "python",
   "name": "python3"
  },
  "language_info": {
   "codemirror_mode": {
    "name": "ipython",
    "version": 3
   },
   "file_extension": ".py",
   "mimetype": "text/x-python",
   "name": "python",
   "nbconvert_exporter": "python",
   "pygments_lexer": "ipython3",
   "version": "3.7.3"
  }
 },
 "nbformat": 4,
 "nbformat_minor": 2
}
