{
 "cells": [
  {
   "cell_type": "markdown",
   "metadata": {},
   "source": [
    "## 1. Grid Search and Random Search"
   ]
  },
  {
   "cell_type": "code",
   "execution_count": 1,
   "metadata": {},
   "outputs": [
    {
     "name": "stdout",
     "output_type": "stream",
     "text": [
      "Loading the dataset: datasets/dataset_3.csv\n"
     ]
    }
   ],
   "source": [
    "from Basic import names,name_parameter,name_model\n",
    "from evaluator import X,y,df_name\n",
    "\n",
    "from time import time\n",
    "import pandas as pd\n",
    "import random\n",
    "import numpy as np\n",
    "\n",
    "from sklearn.model_selection import GridSearchCV\n",
    "from sklearn.model_selection import RandomizedSearchCV\n",
    "#print(__doc__)"
   ]
  },
  {
   "cell_type": "code",
   "execution_count": 2,
   "metadata": {},
   "outputs": [],
   "source": [
    "# Utility function to report best scores\n",
    "def report(results):\n",
    "    candidate = np.flatnonzero(results['rank_test_score'] == 1)[0]\n",
    "    return results['mean_test_score'][candidate],results['params'][candidate]"
   ]
  },
  {
   "cell_type": "markdown",
   "metadata": {},
   "source": [
    "### 1. Grid Search"
   ]
  },
  {
   "cell_type": "code",
   "execution_count": 3,
   "metadata": {},
   "outputs": [],
   "source": [
    "def grid_search_one_class(name):\n",
    "    clf = name_model[name]\n",
    "    param_grid = name_parameter[name]\n",
    "    grid_search = GridSearchCV(clf, param_grid=param_grid, cv=5, iid=False)\n",
    "    start = time()\n",
    "    grid_search.fit(X, y)\n",
    "    used_time = time() - start\n",
    "    score,parameter = report(grid_search.cv_results_)\n",
    "    n_iter = len(grid_search.cv_results_['params'])\n",
    "    return (used_time,score,parameter,n_iter)"
   ]
  },
  {
   "cell_type": "code",
   "execution_count": 4,
   "metadata": {},
   "outputs": [],
   "source": [
    "def whole_grid_search():\n",
    "    history = [grid_search_one_class(name) for name in names]\n",
    "    return history"
   ]
  },
  {
   "cell_type": "code",
   "execution_count": 5,
   "metadata": {},
   "outputs": [],
   "source": [
    "def grid_search_history(history):\n",
    "    times = [h[0] for h in history]\n",
    "    scores = [h[1] for h in history]\n",
    "    parameters = [h[2] for h in history]\n",
    "    n_iters = [h[3] for h in history]\n",
    "    \n",
    "    \n",
    "    ind = scores.index(max(scores))\n",
    "    print('Iterations: ',sum(n_iters))\n",
    "    print('Time: ',sum(times))\n",
    "    print('Best score: ',max(scores))\n",
    "    print('Best classifier: ',names[ind])\n",
    "    print('Best parameter: ',parameters[ind])\n",
    "    \n",
    "    return times,scores,parameters,n_iters"
   ]
  },
  {
   "cell_type": "markdown",
   "metadata": {},
   "source": [
    "### 2. Random Search"
   ]
  },
  {
   "cell_type": "code",
   "execution_count": 6,
   "metadata": {},
   "outputs": [],
   "source": [
    "def random_search_one_class(name,n_iter=1):\n",
    "    clf = name_model[name]\n",
    "    param_grid = name_parameter[name]\n",
    "    random_search = RandomizedSearchCV(clf, param_distributions=param_grid, n_iter=n_iter,cv=5, iid=False)\n",
    "    start = time()\n",
    "    random_search.fit(X, y)\n",
    "    used_time = time() - start\n",
    "    score,parameter = report(random_search.cv_results_)\n",
    "    return (used_time,score,parameter,name) "
   ]
  },
  {
   "cell_type": "code",
   "execution_count": 7,
   "metadata": {},
   "outputs": [],
   "source": [
    "def whole_random_search(n_playouts = 100):\n",
    "    history = [random_search_one_class(random.choice(names)) for _ in range(n_playouts)]\n",
    "    return history"
   ]
  },
  {
   "cell_type": "code",
   "execution_count": 8,
   "metadata": {},
   "outputs": [],
   "source": [
    "def random_search_history(history):\n",
    "    times = [h[0] for h in history]\n",
    "    scores = [h[1] for h in history]\n",
    "    parameters = [h[2] for h in history]\n",
    "    clf_names = [h[3] for h in history]\n",
    "    \n",
    "    ind = scores.index(max(scores))\n",
    "    print('Iterations: ',len(clf_names))\n",
    "    print('Time: ',sum(times))\n",
    "    print('Best score: ',max(scores))\n",
    "    print('Best classifier: ',clf_names[ind])\n",
    "    print('Best parameter: ',parameters[ind])\n",
    "    \n",
    "    return times,scores,parameters,clf_names"
   ]
  },
  {
   "cell_type": "code",
   "execution_count": 9,
   "metadata": {},
   "outputs": [],
   "source": [
    "def convert_times_and_scores(times,scores):\n",
    "    cum_times = [sum(times[:t]) for t in range (1,len(clf_names)+1)]\n",
    "    max_score = [max(scores[:s]) for s in range (1,len(clf_names)+1)]\n",
    "    cum_playouts = [i+1 for i in range(len(clf_names))]\n",
    "    return cum_times,max_score,cum_playouts"
   ]
  },
  {
   "cell_type": "markdown",
   "metadata": {},
   "source": [
    "### 3. RS vs MCTS"
   ]
  },
  {
   "cell_type": "markdown",
   "metadata": {},
   "source": [
    "##### Grid Search"
   ]
  },
  {
   "cell_type": "code",
   "execution_count": null,
   "metadata": {
    "scrolled": true
   },
   "outputs": [],
   "source": [
    "history_gs = whole_grid_search()"
   ]
  },
  {
   "cell_type": "code",
   "execution_count": null,
   "metadata": {},
   "outputs": [],
   "source": [
    "times_gs,score_gs,parameter_gs,n_iter_gs = grid_search_history(history_gs)"
   ]
  },
  {
   "cell_type": "code",
   "execution_count": null,
   "metadata": {},
   "outputs": [],
   "source": []
  },
  {
   "cell_type": "code",
   "execution_count": null,
   "metadata": {},
   "outputs": [],
   "source": []
  },
  {
   "cell_type": "code",
   "execution_count": null,
   "metadata": {},
   "outputs": [],
   "source": []
  },
  {
   "cell_type": "markdown",
   "metadata": {},
   "source": [
    "##### Random Search"
   ]
  },
  {
   "cell_type": "code",
   "execution_count": null,
   "metadata": {
    "scrolled": true
   },
   "outputs": [],
   "source": [
    "history_rs = whole_random_search(n_playouts=5)"
   ]
  },
  {
   "cell_type": "code",
   "execution_count": null,
   "metadata": {},
   "outputs": [],
   "source": [
    "history_rs"
   ]
  },
  {
   "cell_type": "code",
   "execution_count": null,
   "metadata": {
    "scrolled": false
   },
   "outputs": [],
   "source": [
    "times,scores,parameters,clf_names= random_search_history(history_rs)"
   ]
  },
  {
   "cell_type": "code",
   "execution_count": null,
   "metadata": {},
   "outputs": [],
   "source": [
    "times_rs,score_rs,playouts = convert_times_and_scores(times,scores)"
   ]
  },
  {
   "cell_type": "markdown",
   "metadata": {},
   "source": [
    "##### MCTS"
   ]
  },
  {
   "cell_type": "code",
   "execution_count": null,
   "metadata": {},
   "outputs": [],
   "source": [
    "from agent import Agent\n",
    "from evaluator import policy_value_fn"
   ]
  },
  {
   "cell_type": "code",
   "execution_count": null,
   "metadata": {},
   "outputs": [],
   "source": [
    "def whole_mcts(n_playout=100):\n",
    "    agent = Agent(policy_value_fn,n_playout=n_playout)\n",
    "    times,visit_times,Q_values = agent.play_outs()\n",
    "    \n",
    "    total_time = max(times)\n",
    "    best_score = max(agent.mcts._storage.score)\n",
    "    best_parameter = agent.mcts._storage.parameter[agent.mcts._storage.score.index(best_score)]\n",
    "    print(total_time,best_score,best_parameter)\n",
    "    \n",
    "    return times,agent,visit_times,Q_values"
   ]
  },
  {
   "cell_type": "code",
   "execution_count": null,
   "metadata": {
    "scrolled": true
   },
   "outputs": [],
   "source": [
    "n_playout = 100\n",
    "times_mcts,agent,visit_times,Q_values = whole_mcts(n_playout=n_playout)"
   ]
  },
  {
   "cell_type": "code",
   "execution_count": null,
   "metadata": {
    "scrolled": true
   },
   "outputs": [],
   "source": [
    "scores_mcts = [max(agent.mcts._storage.score [:ind]) for ind in playouts ]"
   ]
  },
  {
   "cell_type": "markdown",
   "metadata": {},
   "source": [
    "##### Compare between RS and MCTS\n",
    "Time: Times vs cum_times  \n",
    "Score: best_scores_mcts vs max_score"
   ]
  },
  {
   "cell_type": "markdown",
   "metadata": {},
   "source": [
    "##### Score"
   ]
  },
  {
   "cell_type": "code",
   "execution_count": 27,
   "metadata": {},
   "outputs": [
    {
     "data": {
      "image/png": "[encoded data removed]",
      "text/plain": [
       "<Figure size 432x288 with 1 Axes>"
      ]
     },
     "metadata": {
      "needs_background": "light"
     },
     "output_type": "display_data"
    }
   ],
   "source": [
    "import matplotlib.pyplot as plt\n",
    "fig,ax1 = plt.subplots()\n",
    "plt.plot(playouts,score_rs,color ='r',label='best_score_rs')\n",
    "plt.plot(playouts,scores_mcts,color ='b',label='best_score_mcts')\n",
    "plt.legend()\n",
    "plt.title(df_name)\n",
    "plt.savefig('store/'+df_name+'score')\n",
    "#plt.show()"
   ]
  },
  {
   "cell_type": "markdown",
   "metadata": {},
   "source": [
    "##### Time"
   ]
  },
  {
   "cell_type": "code",
   "execution_count": 28,
   "metadata": {
    "scrolled": true
   },
   "outputs": [
    {
     "data": {
      "image/png": "[encoded data removed]",
      "text/plain": [
       "<Figure size 432x288 with 1 Axes>"
      ]
     },
     "metadata": {
      "needs_background": "light"
     },
     "output_type": "display_data"
    }
   ],
   "source": [
    "import matplotlib.pyplot as plt\n",
    "fig,ax1 = plt.subplots()\n",
    "plt.plot(playouts,times_rs,color ='r',label='total_time_rs')\n",
    "plt.plot(playouts,times_mcts,color ='b',label='total_time_mcts')\n",
    "plt.legend()\n",
    "plt.title(df_name)\n",
    "plt.savefig('store/'+df_name+'time')"
   ]
  },
  {
   "cell_type": "markdown",
   "metadata": {},
   "source": [
    "##### Why RS use more time than MCTS\n",
    "RS used more time because it visit more time of adaboost than ever  \n",
    "RS cv=3   MCTS cv=5"
   ]
  },
  {
   "cell_type": "code",
   "execution_count": 165,
   "metadata": {
    "scrolled": false
   },
   "outputs": [
    {
     "data": {
      "text/plain": [
       "[8, 8, 9, 8, 8, 8, 9, 8, 9, 7, 9, 8]"
      ]
     },
     "execution_count": 165,
     "metadata": {},
     "output_type": "execute_result"
    }
   ],
   "source": [
    "[i._n_visits for i in list(agent.mct.root._children.values())]"
   ]
  },
  {
   "cell_type": "code",
   "execution_count": 166,
   "metadata": {},
   "outputs": [],
   "source": [
    "from collections import Counter"
   ]
  },
  {
   "cell_type": "code",
   "execution_count": 167,
   "metadata": {
    "scrolled": false
   },
   "outputs": [
    {
     "data": {
      "text/plain": [
       "Counter({'LDA': 8,\n",
       "         'SVC': 5,\n",
       "         'KNN': 15,\n",
       "         'AdaBoostClassifier': 12,\n",
       "         'SGD': 8,\n",
       "         'ExtraTree': 11,\n",
       "         'PAC': 10,\n",
       "         'QDA': 3,\n",
       "         'RF': 7,\n",
       "         'BernoulliNB': 8,\n",
       "         'LSVC': 8,\n",
       "         'DecisionTree': 5})"
      ]
     },
     "execution_count": 167,
     "metadata": {},
     "output_type": "execute_result"
    }
   ],
   "source": [
    "Counter(clf_names)"
   ]
  },
  {
   "cell_type": "markdown",
   "metadata": {},
   "source": [
    "## 2. MCTS with one feature"
   ]
  },
  {
   "cell_type": "code",
   "execution_count": null,
   "metadata": {},
   "outputs": [],
   "source": []
  }
 ],
 "metadata": {
  "kernelspec": {
   "display_name": "Python 3",
   "language": "python",
   "name": "python3"
  },
  "language_info": {
   "codemirror_mode": {
    "name": "ipython",
    "version": 3
   },
   "file_extension": ".py",
   "mimetype": "text/x-python",
   "name": "python",
   "nbconvert_exporter": "python",
   "pygments_lexer": "ipython3",
   "version": "3.7.3"
  }
 },
 "nbformat": 4,
 "nbformat_minor": 2
}
