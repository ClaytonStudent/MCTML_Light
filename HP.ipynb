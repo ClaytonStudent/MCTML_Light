{
 "cells": [
  {
   "cell_type": "markdown",
   "metadata": {},
   "source": [
    "## 1. All Classifiers hyper parameter range"
   ]
  },
  {
   "cell_type": "code",
   "execution_count": null,
   "metadata": {},
   "outputs": [],
   "source": [
    "import warnings\n",
    "warnings.filterwarnings('ignore')"
   ]
  },
  {
   "cell_type": "markdown",
   "metadata": {},
   "source": [
    "### 1. AdaboostClassifier"
   ]
  },
  {
   "cell_type": "code",
   "execution_count": 139,
   "metadata": {},
   "outputs": [],
   "source": [
    "from sklearn.ensemble import AdaBoostClassifier\n",
    "param_dist_ada = {'algorithm':['SAMME.R','SAMME'],\n",
    "              'n_estimators':[50,100,500],\n",
    "              'learning_rate':[0.01,0.1,2]}"
   ]
  },
  {
   "cell_type": "markdown",
   "metadata": {},
   "source": [
    "### 2. BernoulliNB"
   ]
  },
  {
   "cell_type": "code",
   "execution_count": 114,
   "metadata": {},
   "outputs": [],
   "source": [
    "from sklearn.naive_bayes import BernoulliNB\n",
    "param_dist_ber = {'alpha':[0.01,0.1,1,2],\n",
    "             'fit_prior':[True,False]}"
   ]
  },
  {
   "cell_type": "markdown",
   "metadata": {},
   "source": [
    "### 3. DecisionTree"
   ]
  },
  {
   "cell_type": "code",
   "execution_count": 115,
   "metadata": {},
   "outputs": [],
   "source": [
    "from sklearn.tree import DecisionTreeClassifier\n",
    "param_dist_dt = {'criterion':['gini','entropy'],\n",
    "             'min_samples_split':[2,10,20],\n",
    "             'min_samples_leaf':[2,10,20]}"
   ]
  },
  {
   "cell_type": "markdown",
   "metadata": {},
   "source": [
    "### 4. ExtraTree"
   ]
  },
  {
   "cell_type": "code",
   "execution_count": 155,
   "metadata": {},
   "outputs": [],
   "source": [
    "from sklearn.tree import ExtraTreeClassifier\n",
    "param_dist_et = {'criterion':['gini','entropy'],\n",
    "             'min_samples_split':[2,10,20]}"
   ]
  },
  {
   "cell_type": "markdown",
   "metadata": {},
   "source": [
    "### 5.GaussianNB"
   ]
  },
  {
   "cell_type": "code",
   "execution_count": 109,
   "metadata": {},
   "outputs": [],
   "source": [
    "from sklearn.naive_bayes import GaussianNB"
   ]
  },
  {
   "cell_type": "code",
   "execution_count": 118,
   "metadata": {},
   "outputs": [],
   "source": [
    "param_dist_gnb = None"
   ]
  },
  {
   "cell_type": "markdown",
   "metadata": {},
   "source": [
    "### 6. GradientBoosting"
   ]
  },
  {
   "cell_type": "code",
   "execution_count": 6,
   "metadata": {},
   "outputs": [],
   "source": [
    "from sklearn.ensemble import GradientBoostingClassifier"
   ]
  },
  {
   "cell_type": "code",
   "execution_count": 7,
   "metadata": {},
   "outputs": [],
   "source": [
    "gbc = GradientBoostingClassifier()"
   ]
  },
  {
   "cell_type": "code",
   "execution_count": 176,
   "metadata": {},
   "outputs": [],
   "source": [
    "param_dist_gbc = {'learning_rate':[0.01,0.1,1.0],\n",
    "                  'n_estimators':[50,100,500],\n",
    "                  'criterion':['friedman_mse', 'mse', 'mae']}"
   ]
  },
  {
   "cell_type": "markdown",
   "metadata": {},
   "source": [
    "### 7. KNN"
   ]
  },
  {
   "cell_type": "code",
   "execution_count": 111,
   "metadata": {},
   "outputs": [],
   "source": [
    "from sklearn.neighbors import KNeighborsClassifier"
   ]
  },
  {
   "cell_type": "code",
   "execution_count": 10,
   "metadata": {},
   "outputs": [],
   "source": [
    "knn = KNeighborsClassifier()"
   ]
  },
  {
   "cell_type": "code",
   "execution_count": 11,
   "metadata": {},
   "outputs": [
    {
     "data": {
      "text/plain": [
       "{'algorithm': 'auto',\n",
       " 'leaf_size': 30,\n",
       " 'metric': 'minkowski',\n",
       " 'metric_params': None,\n",
       " 'n_jobs': None,\n",
       " 'n_neighbors': 5,\n",
       " 'p': 2,\n",
       " 'weights': 'uniform'}"
      ]
     },
     "execution_count": 11,
     "metadata": {},
     "output_type": "execute_result"
    }
   ],
   "source": [
    "knn.get_params()"
   ]
  },
  {
   "cell_type": "code",
   "execution_count": 120,
   "metadata": {},
   "outputs": [],
   "source": [
    "param_dist_knn = {'n_neighbors':[3,5,10],\n",
    "             'weights':[\"uniform\", \"distance\"],\n",
    "             'p':[1,2]}"
   ]
  },
  {
   "cell_type": "markdown",
   "metadata": {},
   "source": [
    "### 8. LDA"
   ]
  },
  {
   "cell_type": "code",
   "execution_count": 12,
   "metadata": {},
   "outputs": [],
   "source": [
    "from sklearn.discriminant_analysis import LinearDiscriminantAnalysis\n",
    "lda = LinearDiscriminantAnalysis()"
   ]
  },
  {
   "cell_type": "code",
   "execution_count": 13,
   "metadata": {
    "scrolled": true
   },
   "outputs": [
    {
     "data": {
      "text/plain": [
       "{'n_components': None,\n",
       " 'priors': None,\n",
       " 'shrinkage': None,\n",
       " 'solver': 'svd',\n",
       " 'store_covariance': False,\n",
       " 'tol': 0.0001}"
      ]
     },
     "execution_count": 13,
     "metadata": {},
     "output_type": "execute_result"
    }
   ],
   "source": [
    "lda.get_params()"
   ]
  },
  {
   "cell_type": "code",
   "execution_count": 183,
   "metadata": {},
   "outputs": [],
   "source": [
    "param_dist_lda = {'n_components':[1,10,100],\n",
    "             'tol':[0.001,0.01,0.1]}"
   ]
  },
  {
   "cell_type": "markdown",
   "metadata": {},
   "source": [
    "### 9. SGD"
   ]
  },
  {
   "cell_type": "code",
   "execution_count": 14,
   "metadata": {},
   "outputs": [],
   "source": [
    "from sklearn.linear_model import SGDClassifier\n",
    "sgd = SGDClassifier()"
   ]
  },
  {
   "cell_type": "code",
   "execution_count": 122,
   "metadata": {},
   "outputs": [],
   "source": [
    "param_dist_sgd = {'loss':[\"hinge\", \"log\", \"modified_huber\", \"squared_hinge\", \"perceptron\"],\n",
    "             'penalty':[\"l1\", \"l2\", \"elasticnet\"],\n",
    "             'alpha':[0.01,0.1,1.0]}\n",
    "\n"
   ]
  },
  {
   "cell_type": "markdown",
   "metadata": {},
   "source": [
    "### 10. LibLinear_SVC"
   ]
  },
  {
   "cell_type": "code",
   "execution_count": 16,
   "metadata": {},
   "outputs": [],
   "source": [
    "from sklearn.svm import LinearSVC"
   ]
  },
  {
   "cell_type": "code",
   "execution_count": 17,
   "metadata": {},
   "outputs": [],
   "source": [
    "lsvc = LinearSVC()"
   ]
  },
  {
   "cell_type": "code",
   "execution_count": 18,
   "metadata": {},
   "outputs": [
    {
     "data": {
      "text/plain": [
       "{'C': 1.0,\n",
       " 'class_weight': None,\n",
       " 'dual': True,\n",
       " 'fit_intercept': True,\n",
       " 'intercept_scaling': 1,\n",
       " 'loss': 'squared_hinge',\n",
       " 'max_iter': 1000,\n",
       " 'multi_class': 'ovr',\n",
       " 'penalty': 'l2',\n",
       " 'random_state': None,\n",
       " 'tol': 0.0001,\n",
       " 'verbose': 0}"
      ]
     },
     "execution_count": 18,
     "metadata": {},
     "output_type": "execute_result"
    }
   ],
   "source": [
    "lsvc.get_params()"
   ]
  },
  {
   "cell_type": "code",
   "execution_count": 123,
   "metadata": {},
   "outputs": [],
   "source": [
    "param_dist_lsvc = {'C':[0.01,0.1,1.0,10.0,100.0],\n",
    "             'tol':[0.001,0.01,0.1,1.0]}"
   ]
  },
  {
   "cell_type": "markdown",
   "metadata": {},
   "source": [
    "### 11. LibSVM_SVC"
   ]
  },
  {
   "cell_type": "code",
   "execution_count": 20,
   "metadata": {},
   "outputs": [],
   "source": [
    "from sklearn.svm import SVC\n",
    "lib = SVC()"
   ]
  },
  {
   "cell_type": "code",
   "execution_count": 124,
   "metadata": {},
   "outputs": [],
   "source": [
    "param_dist_svd = {'C':[0.01,0.1,1.0,10.0,100.0],\n",
    "             'tol':[0.001,0.01,0.1,1.0]}"
   ]
  },
  {
   "cell_type": "code",
   "execution_count": 21,
   "metadata": {},
   "outputs": [
    {
     "data": {
      "text/plain": [
       "{'C': 1.0,\n",
       " 'cache_size': 200,\n",
       " 'class_weight': None,\n",
       " 'coef0': 0.0,\n",
       " 'decision_function_shape': 'ovr',\n",
       " 'degree': 3,\n",
       " 'gamma': 'auto_deprecated',\n",
       " 'kernel': 'rbf',\n",
       " 'max_iter': -1,\n",
       " 'probability': False,\n",
       " 'random_state': None,\n",
       " 'shrinking': True,\n",
       " 'tol': 0.001,\n",
       " 'verbose': False}"
      ]
     },
     "execution_count": 21,
     "metadata": {},
     "output_type": "execute_result"
    }
   ],
   "source": [
    "lib.get_params()"
   ]
  },
  {
   "cell_type": "markdown",
   "metadata": {},
   "source": [
    "### 12. MultinomialNB"
   ]
  },
  {
   "cell_type": "code",
   "execution_count": 22,
   "metadata": {},
   "outputs": [],
   "source": [
    "from sklearn.naive_bayes import MultinomialNB"
   ]
  },
  {
   "cell_type": "code",
   "execution_count": 23,
   "metadata": {},
   "outputs": [],
   "source": [
    "mnb = MultinomialNB()"
   ]
  },
  {
   "cell_type": "code",
   "execution_count": 25,
   "metadata": {},
   "outputs": [
    {
     "data": {
      "text/plain": [
       "{'alpha': 1.0, 'class_prior': None, 'fit_prior': True}"
      ]
     },
     "execution_count": 25,
     "metadata": {},
     "output_type": "execute_result"
    }
   ],
   "source": [
    "mnb.get_params()"
   ]
  },
  {
   "cell_type": "code",
   "execution_count": 125,
   "metadata": {},
   "outputs": [],
   "source": [
    "param_dist_mnb = {'alpha':[0.01,0.1,1.0,10],\n",
    "             'fit_prior':[True,False]}"
   ]
  },
  {
   "cell_type": "markdown",
   "metadata": {},
   "source": [
    "### 13. PassiveAggressive"
   ]
  },
  {
   "cell_type": "code",
   "execution_count": 26,
   "metadata": {},
   "outputs": [],
   "source": [
    "from sklearn.linear_model import PassiveAggressiveClassifier"
   ]
  },
  {
   "cell_type": "code",
   "execution_count": 27,
   "metadata": {},
   "outputs": [],
   "source": [
    "pac = PassiveAggressiveClassifier()"
   ]
  },
  {
   "cell_type": "code",
   "execution_count": 28,
   "metadata": {
    "scrolled": false
   },
   "outputs": [
    {
     "data": {
      "text/plain": [
       "{'C': 1.0,\n",
       " 'average': False,\n",
       " 'class_weight': None,\n",
       " 'early_stopping': False,\n",
       " 'fit_intercept': True,\n",
       " 'loss': 'hinge',\n",
       " 'max_iter': None,\n",
       " 'n_iter': None,\n",
       " 'n_iter_no_change': 5,\n",
       " 'n_jobs': None,\n",
       " 'random_state': None,\n",
       " 'shuffle': True,\n",
       " 'tol': None,\n",
       " 'validation_fraction': 0.1,\n",
       " 'verbose': 0,\n",
       " 'warm_start': False}"
      ]
     },
     "execution_count": 28,
     "metadata": {},
     "output_type": "execute_result"
    }
   ],
   "source": [
    "pac.get_params()"
   ]
  },
  {
   "cell_type": "code",
   "execution_count": 126,
   "metadata": {},
   "outputs": [],
   "source": [
    "param_dist_pac = {'C':[0.001,0.01,0.1,1.0],\n",
    "             'loss':[\"hinge\", \"squared_hinge\"],\n",
    "             'tol':[0.001,0.01,0.1,1.0]}"
   ]
  },
  {
   "cell_type": "markdown",
   "metadata": {},
   "source": [
    "### 14. QDA"
   ]
  },
  {
   "cell_type": "code",
   "execution_count": 30,
   "metadata": {},
   "outputs": [],
   "source": [
    "from sklearn.discriminant_analysis import QuadraticDiscriminantAnalysis"
   ]
  },
  {
   "cell_type": "code",
   "execution_count": 31,
   "metadata": {},
   "outputs": [],
   "source": [
    "qda = QuadraticDiscriminantAnalysis()"
   ]
  },
  {
   "cell_type": "code",
   "execution_count": 32,
   "metadata": {},
   "outputs": [
    {
     "data": {
      "text/plain": [
       "{'priors': None,\n",
       " 'reg_param': 0.0,\n",
       " 'store_covariance': False,\n",
       " 'store_covariances': None,\n",
       " 'tol': 0.0001}"
      ]
     },
     "execution_count": 32,
     "metadata": {},
     "output_type": "execute_result"
    }
   ],
   "source": [
    "qda.get_params()"
   ]
  },
  {
   "cell_type": "code",
   "execution_count": 127,
   "metadata": {},
   "outputs": [],
   "source": [
    "param_dist_qda = {'reg_param':[0.0,0.5,1.0]}"
   ]
  },
  {
   "cell_type": "markdown",
   "metadata": {},
   "source": [
    "### 15. RandomForest"
   ]
  },
  {
   "cell_type": "code",
   "execution_count": 33,
   "metadata": {},
   "outputs": [],
   "source": [
    "from sklearn.ensemble import RandomForestClassifier\n",
    "rf = RandomForestClassifier()"
   ]
  },
  {
   "cell_type": "code",
   "execution_count": 34,
   "metadata": {
    "scrolled": false
   },
   "outputs": [
    {
     "data": {
      "text/plain": [
       "{'bootstrap': True,\n",
       " 'class_weight': None,\n",
       " 'criterion': 'gini',\n",
       " 'max_depth': None,\n",
       " 'max_features': 'auto',\n",
       " 'max_leaf_nodes': None,\n",
       " 'min_impurity_decrease': 0.0,\n",
       " 'min_impurity_split': None,\n",
       " 'min_samples_leaf': 1,\n",
       " 'min_samples_split': 2,\n",
       " 'min_weight_fraction_leaf': 0.0,\n",
       " 'n_estimators': 'warn',\n",
       " 'n_jobs': None,\n",
       " 'oob_score': False,\n",
       " 'random_state': None,\n",
       " 'verbose': 0,\n",
       " 'warm_start': False}"
      ]
     },
     "execution_count": 34,
     "metadata": {},
     "output_type": "execute_result"
    }
   ],
   "source": [
    "rf.get_params()"
   ]
  },
  {
   "cell_type": "code",
   "execution_count": 196,
   "metadata": {},
   "outputs": [],
   "source": [
    "param_dist_rf = {'criterion':[\"gini\", \"entropy\"],\n",
    "             'n_estimators':[10,50,100]}"
   ]
  },
  {
   "cell_type": "markdown",
   "metadata": {},
   "source": [
    "## 2. Load Data and pepare for Grid Search"
   ]
  },
  {
   "cell_type": "code",
   "execution_count": 42,
   "metadata": {
    "scrolled": true
   },
   "outputs": [
    {
     "name": "stdout",
     "output_type": "stream",
     "text": [
      "Automatically created module for IPython interactive environment\n"
     ]
    }
   ],
   "source": [
    "print(__doc__)\n",
    "\n",
    "import numpy as np\n",
    "\n",
    "from time import time\n",
    "from scipy.stats import randint as sp_randint\n",
    "\n",
    "from sklearn.model_selection import GridSearchCV\n",
    "from sklearn.model_selection import RandomizedSearchCV\n",
    "from sklearn.datasets import load_digits,load_iris\n",
    "from sklearn.ensemble import RandomForestClassifier\n",
    "\n"
   ]
  },
  {
   "cell_type": "code",
   "execution_count": 43,
   "metadata": {},
   "outputs": [],
   "source": [
    "digits = load_digits()\n",
    "X, y = digits.data, digits.target"
   ]
  },
  {
   "cell_type": "code",
   "execution_count": 103,
   "metadata": {},
   "outputs": [],
   "source": [
    "# Utility function to report best scores\n",
    "def report(results):\n",
    "    candidates = np.flatnonzero(results['rank_test_score'] == 1)\n",
    "    candidate = candidates[0]\n",
    "    #for candidate in candidates:\n",
    "    #print(type(candidates),type(candidate))\n",
    "    print(\"Mean validation score: {0:.3f} (std: {1:.3f})\".format(\n",
    "                  results['mean_test_score'][candidate],\n",
    "                  results['std_test_score'][candidate]))\n",
    "    print(\"Parameters: {0}\".format(results['params'][candidate]))\n",
    "    return results['mean_test_score'][candidate],results['params'][candidate]"
   ]
  },
  {
   "cell_type": "code",
   "execution_count": 102,
   "metadata": {},
   "outputs": [],
   "source": [
    "def grid_search_one_class(clf,param_grid):\n",
    "    grid_search = GridSearchCV(clf, param_grid=param_grid, cv=5, iid=False)\n",
    "    start = time()\n",
    "    grid_search.fit(X, y)\n",
    "    used_time = time() - start\n",
    "    print(\"GridSearchCV took %.2f seconds for %d candidate parameter settings.\"\n",
    "      % (used_time, len(grid_search.cv_results_['params'])))\n",
    "    score,parameter = report(grid_search.cv_results_)\n",
    "    return used_time,score,parameter"
   ]
  },
  {
   "cell_type": "code",
   "execution_count": 150,
   "metadata": {},
   "outputs": [],
   "source": [
    "classifiers = [AdaBoostClassifier(),\n",
    "               BernoulliNB(),\n",
    "               DecisionTreeClassifier(),\n",
    "               ExtraTreeClassifier(),\n",
    "               GaussianNB(),\n",
    "               GradientBoostingClassifier(),\n",
    "               KNeighborsClassifier(),\n",
    "               LinearDiscriminantAnalysis(),\n",
    "               SGDClassifier(),\n",
    "               LinearSVC(),\n",
    "               SVC(),\n",
    "               MultinomialNB(),\n",
    "               PassiveAggressiveClassifier(),\n",
    "               QuadraticDiscriminantAnalysis(),\n",
    "               RandomForestClassifier()]"
   ]
  },
  {
   "cell_type": "code",
   "execution_count": 197,
   "metadata": {},
   "outputs": [],
   "source": [
    "param_dists = [param_dist_ada,\n",
    "              param_dist_ber,\n",
    "              param_dist_dt,\n",
    "              param_dist_et,\n",
    "              param_dist_gnb,\n",
    "              param_dist_gbc,\n",
    "              param_dist_knn,\n",
    "              param_dist_lda,\n",
    "              param_dist_sgd,\n",
    "              param_dist_lsvc,\n",
    "              param_dist_svd,\n",
    "              param_dist_mnb,\n",
    "              param_dist_pac,\n",
    "              param_dist_qda,\n",
    "              param_dist_rf]"
   ]
  },
  {
   "cell_type": "code",
   "execution_count": 179,
   "metadata": {
    "scrolled": false
   },
   "outputs": [
    {
     "name": "stdout",
     "output_type": "stream",
     "text": [
      "GridSearchCV took 18.35 seconds for 12 candidate parameter settings.\n",
      "Mean validation score: 0.967 (std: 0.012)\n",
      "Parameters: {'n_neighbors': 3, 'p': 2, 'weights': 'distance'}\n"
     ]
    },
    {
     "data": {
      "text/plain": [
       "(18.350347995758057,\n",
       " 0.9666651443841708,\n",
       " {'n_neighbors': 3, 'p': 2, 'weights': 'distance'})"
      ]
     },
     "execution_count": 179,
     "metadata": {},
     "output_type": "execute_result"
    }
   ],
   "source": [
    "grid_search_one_class(classifiers[6],param_dists[6])"
   ]
  },
  {
   "cell_type": "code",
   "execution_count": 187,
   "metadata": {
    "scrolled": false
   },
   "outputs": [
    {
     "name": "stdout",
     "output_type": "stream",
     "text": [
      "GridSearchCV took 0.99 seconds for 9 candidate parameter settings.\n",
      "Mean validation score: 0.908 (std: 0.019)\n",
      "Parameters: {'n_components': 1, 'tol': 0.001}\n"
     ]
    },
    {
     "data": {
      "text/plain": [
       "(0.9927771091461182, 0.9081420657064312, {'n_components': 1, 'tol': 0.001})"
      ]
     },
     "execution_count": 187,
     "metadata": {},
     "output_type": "execute_result"
    }
   ],
   "source": [
    "grid_search_one_class(classifiers[7],param_dists[7])"
   ]
  },
  {
   "cell_type": "code",
   "execution_count": 188,
   "metadata": {},
   "outputs": [
    {
     "name": "stdout",
     "output_type": "stream",
     "text": [
      "GridSearchCV took 8.47 seconds for 60 candidate parameter settings.\n",
      "Mean validation score: 0.922 (std: 0.034)\n",
      "Parameters: {'alpha': 0.001, 'loss': 'hinge', 'penalty': 'l1'}\n"
     ]
    },
    {
     "data": {
      "text/plain": [
       "(8.467777013778687,\n",
       " 0.9216079085261996,\n",
       " {'alpha': 0.001, 'loss': 'hinge', 'penalty': 'l1'})"
      ]
     },
     "execution_count": 188,
     "metadata": {},
     "output_type": "execute_result"
    }
   ],
   "source": [
    "grid_search_one_class(classifiers[8],param_dists[8])"
   ]
  },
  {
   "cell_type": "code",
   "execution_count": 189,
   "metadata": {},
   "outputs": [
    {
     "name": "stdout",
     "output_type": "stream",
     "text": [
      "GridSearchCV took 10.08 seconds for 20 candidate parameter settings.\n",
      "Mean validation score: 0.923 (std: 0.029)\n",
      "Parameters: {'C': 0.01, 'tol': 1.0}\n"
     ]
    },
    {
     "data": {
      "text/plain": [
       "(10.080565929412842, 0.9226979375336362, {'C': 0.01, 'tol': 1.0})"
      ]
     },
     "execution_count": 189,
     "metadata": {},
     "output_type": "execute_result"
    }
   ],
   "source": [
    "grid_search_one_class(classifiers[9],param_dists[9])"
   ]
  },
  {
   "cell_type": "code",
   "execution_count": 191,
   "metadata": {},
   "outputs": [
    {
     "name": "stdout",
     "output_type": "stream",
     "text": [
      "GridSearchCV took 63.83 seconds for 20 candidate parameter settings.\n",
      "Mean validation score: 0.539 (std: 0.067)\n",
      "Parameters: {'C': 10.0, 'tol': 1.0}\n"
     ]
    },
    {
     "data": {
      "text/plain": [
       "(63.83253502845764, 0.5385344031504982, {'C': 10.0, 'tol': 1.0})"
      ]
     },
     "execution_count": 191,
     "metadata": {},
     "output_type": "execute_result"
    }
   ],
   "source": [
    "grid_search_one_class(classifiers[10],param_dists[10])"
   ]
  },
  {
   "cell_type": "code",
   "execution_count": 192,
   "metadata": {},
   "outputs": [
    {
     "name": "stdout",
     "output_type": "stream",
     "text": [
      "GridSearchCV took 0.17 seconds for 8 candidate parameter settings.\n",
      "Mean validation score: 0.875 (std: 0.041)\n",
      "Parameters: {'alpha': 10, 'fit_prior': True}\n"
     ]
    },
    {
     "data": {
      "text/plain": [
       "(0.16637897491455078, 0.8753873597982187, {'alpha': 10, 'fit_prior': True})"
      ]
     },
     "execution_count": 192,
     "metadata": {},
     "output_type": "execute_result"
    }
   ],
   "source": [
    "grid_search_one_class(classifiers[11],param_dists[11])"
   ]
  },
  {
   "cell_type": "code",
   "execution_count": 193,
   "metadata": {},
   "outputs": [
    {
     "name": "stdout",
     "output_type": "stream",
     "text": [
      "GridSearchCV took 5.28 seconds for 32 candidate parameter settings.\n",
      "Mean validation score: 0.919 (std: 0.034)\n",
      "Parameters: {'C': 0.1, 'loss': 'hinge', 'tol': 0.1}\n"
     ]
    },
    {
     "data": {
      "text/plain": [
       "(5.280009031295776,\n",
       " 0.9187629163305058,\n",
       " {'C': 0.1, 'loss': 'hinge', 'tol': 0.1})"
      ]
     },
     "execution_count": 193,
     "metadata": {},
     "output_type": "execute_result"
    }
   ],
   "source": [
    "grid_search_one_class(classifiers[12],param_dists[12])"
   ]
  },
  {
   "cell_type": "code",
   "execution_count": 194,
   "metadata": {},
   "outputs": [
    {
     "name": "stdout",
     "output_type": "stream",
     "text": [
      "GridSearchCV took 0.43 seconds for 3 candidate parameter settings.\n",
      "Mean validation score: 0.957 (std: 0.025)\n",
      "Parameters: {'reg_param': 0.5}\n"
     ]
    },
    {
     "data": {
      "text/plain": [
       "(0.43299412727355957, 0.9572800846572642, {'reg_param': 0.5})"
      ]
     },
     "execution_count": 194,
     "metadata": {},
     "output_type": "execute_result"
    }
   ],
   "source": [
    "grid_search_one_class(classifiers[13],param_dists[13])"
   ]
  },
  {
   "cell_type": "code",
   "execution_count": 198,
   "metadata": {
    "scrolled": true
   },
   "outputs": [
    {
     "name": "stdout",
     "output_type": "stream",
     "text": [
      "GridSearchCV took 6.52 seconds for 6 candidate parameter settings.\n",
      "Mean validation score: 0.940 (std: 0.015)\n",
      "Parameters: {'criterion': 'entropy', 'n_estimators': 100}\n"
     ]
    },
    {
     "data": {
      "text/plain": [
       "(6.520798921585083,\n",
       " 0.9404634412857951,\n",
       " {'criterion': 'entropy', 'n_estimators': 100})"
      ]
     },
     "execution_count": 198,
     "metadata": {},
     "output_type": "execute_result"
    }
   ],
   "source": [
    "grid_search_one_class(classifiers[14],param_dists[14])"
   ]
  },
  {
   "cell_type": "code",
   "execution_count": null,
   "metadata": {},
   "outputs": [
    {
     "name": "stdout",
     "output_type": "stream",
     "text": [
      "GridSearchCV took 75.39 seconds for 18 candidate parameter settings.\n",
      "Mean validation score: 0.841 (std: 0.044)\n",
      "Parameters: {'algorithm': 'SAMME', 'learning_rate': 2, 'n_estimators': 500}\n",
      "GridSearchCV took 0.25 seconds for 8 candidate parameter settings.\n",
      "Mean validation score: 0.826 (std: 0.061)\n",
      "Parameters: {'alpha': 0.01, 'fit_prior': False}\n",
      "GridSearchCV took 1.53 seconds for 18 candidate parameter settings.\n",
      "Mean validation score: 0.799 (std: 0.025)\n",
      "Parameters: {'criterion': 'entropy', 'min_samples_leaf': 2, 'min_samples_split': 2}\n",
      "GridSearchCV took 0.12 seconds for 6 candidate parameter settings.\n",
      "Mean validation score: 0.744 (std: 0.046)\n",
      "Parameters: {'criterion': 'entropy', 'min_samples_split': 2}\n"
     ]
    }
   ],
   "source": [
    "for i in range(15):\n",
    "    if param_dists[i] == None:\n",
    "        pass\n",
    "    else:\n",
    "        grid_search_one_class(classifiers[i],param_dists[i])"
   ]
  },
  {
   "cell_type": "markdown",
   "metadata": {},
   "source": [
    "## RandomSearch"
   ]
  },
  {
   "cell_type": "code",
   "execution_count": 208,
   "metadata": {},
   "outputs": [],
   "source": [
    "def random_search_one_class(clf,param_grid,n_iter=20):\n",
    "    print(\"The {}th random search\".format(i+1))\n",
    "    random_search = RandomizedSearchCV(clf, param_distributions=param_grid, n_iter=n_iter,cv=5, iid=False)\n",
    "    start = time()\n",
    "    random_search.fit(X, y)\n",
    "    used_time = time() - start\n",
    "    print(\"RandomSearchCV took %.2f seconds for %d candidate parameter settings.\"\n",
    "      % (used_time, len(random_search.cv_results_['params'])))\n",
    "    score,parameter = report(random_search.cv_results_)\n",
    "    return used_time,score,parameter"
   ]
  },
  {
   "cell_type": "code",
   "execution_count": null,
   "metadata": {
    "scrolled": true
   },
   "outputs": [],
   "source": [
    "for i in range(15):\n",
    "    if param_dists[i] == None:\n",
    "        pass\n",
    "    else:\n",
    "        random_search_one_class(classifiers[i],param_dists[i])"
   ]
  },
  {
   "cell_type": "code",
   "execution_count": null,
   "metadata": {},
   "outputs": [],
   "source": []
  }
 ],
 "metadata": {
  "kernelspec": {
   "display_name": "Python 3",
   "language": "python",
   "name": "python3"
  }
 },
 "nbformat": 4,
 "nbformat_minor": 2
}
