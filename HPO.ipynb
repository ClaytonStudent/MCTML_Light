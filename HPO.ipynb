{
 "cells": [
  {
   "cell_type": "markdown",
   "metadata": {},
   "source": [
    "### All candidate classifiers hyperparameter(5)"
   ]
  },
  {
   "cell_type": "code",
   "execution_count": 1,
   "metadata": {},
   "outputs": [],
   "source": [
    "from sklearn.ensemble import AdaBoostClassifier\n",
    "param_dist_ada = {'algorithm':['SAMME.R','SAMME'], \n",
    "              'n_estimators':[50,100,500],  \n",
    "              'learning_rate':[1.0,0.1,2.0]}\n",
    "\n",
    "# default : {'algorithm': 'SAMME.R','base_estimator': None,'learning_rate': 1.0,'n_estimators': 50,'random_state': None}"
   ]
  },
  {
   "cell_type": "code",
   "execution_count": 2,
   "metadata": {},
   "outputs": [],
   "source": [
    "from sklearn.tree import DecisionTreeClassifier\n",
    "param_dist_dt = {'criterion':['gini','entropy'],\n",
    "             'min_samples_split':[2,10,20],\n",
    "             'min_samples_leaf':[1,9,18]}\n",
    "# default: criterion: gini, min_samples_split:2,min_samples_leaf:1"
   ]
  },
  {
   "cell_type": "code",
   "execution_count": 3,
   "metadata": {},
   "outputs": [],
   "source": [
    "from sklearn.neighbors import KNeighborsClassifier\n",
    "param_dist_knn = {'weights':[\"uniform\", \"distance\"],\n",
    "                  'n_neighbors':[5,8,10],\n",
    "                  'p':[2,1,3]}\n",
    "# defalut: n_neighbors: 5, weights:uniform, p:2"
   ]
  },
  {
   "cell_type": "code",
   "execution_count": 4,
   "metadata": {},
   "outputs": [],
   "source": [
    "from sklearn.linear_model import SGDClassifier\n",
    "param_dist_sgd = {'alpha':[0.0001,1.0],\n",
    "                  'loss':[\"hinge\", \"log\", \"perceptron\"],\n",
    "                  'penalty':[\"l2\", \"l1\", \"elasticnet\"]}\n",
    "# default: loss:hinge, penalty: l2, alpha:0.0001"
   ]
  },
  {
   "cell_type": "code",
   "execution_count": 10,
   "metadata": {},
   "outputs": [],
   "source": [
    "from sklearn.linear_model import PassiveAggressiveClassifier\n",
    "param_dist_pac = {'loss':[\"hinge\", \"squared_hinge\"],\n",
    "                  'C':[1.0,0.01,0.1],\n",
    "                  'tol':[None,0.01,1.0]}\n",
    "# default: C:1.0, loss:hinge, tol: None"
   ]
  },
  {
   "cell_type": "markdown",
   "metadata": {},
   "source": [
    "### New State"
   ]
  },
  {
   "cell_type": "markdown",
   "metadata": {},
   "source": [
    " 一些简单化的假设：\n",
    " 1. 一共5个classifier\n",
    " 2. 每个clf有三个超参数备选\n",
    " 3. 超参数相加一共8个\n",
    " 4. 每个超参数互相不重合 (不一定)\n",
    " 5. 结构都是 2+3+3 （不一定）"
   ]
  },
  {
   "cell_type": "code",
   "execution_count": 73,
   "metadata": {},
   "outputs": [],
   "source": [
    "def param_to_dics(params):\n",
    "    actions = []\n",
    "    for i,values in param_dist_ada.items():\n",
    "        for value in values:\n",
    "            actions.append({i:value})\n",
    "    return actions"
   ]
  },
  {
   "cell_type": "code",
   "execution_count": 74,
   "metadata": {},
   "outputs": [],
   "source": [
    "actions = param_to_dics(param_dist_ada)"
   ]
  },
  {
   "cell_type": "code",
   "execution_count": 75,
   "metadata": {
    "scrolled": false
   },
   "outputs": [
    {
     "data": {
      "text/plain": [
       "[{'algorithm': 'SAMME.R'},\n",
       " {'algorithm': 'SAMME'},\n",
       " {'n_estimators': 50},\n",
       " {'n_estimators': 100},\n",
       " {'n_estimators': 500},\n",
       " {'learning_rate': 1.0},\n",
       " {'learning_rate': 0.1},\n",
       " {'learning_rate': 2.0}]"
      ]
     },
     "execution_count": 75,
     "metadata": {},
     "output_type": "execute_result"
    }
   ],
   "source": [
    "actions"
   ]
  },
  {
   "cell_type": "code",
   "execution_count": 79,
   "metadata": {},
   "outputs": [],
   "source": [
    "import random"
   ]
  },
  {
   "cell_type": "code",
   "execution_count": null,
   "metadata": {},
   "outputs": [],
   "source": [
    "from Basic import name_parameter,name_model,names\n",
    "class State:\n",
    "    def __init__(self,path=[],actions=names,level=0,hypername=None):\n",
    "        self.path = path\n",
    "        self.actions = actions\n",
    "        self.level = level\n",
    "    \n",
    "    def update_action(self,action):\n",
    "        if self.level == 0:\n",
    "            actions = param_to_dics(name_parameter[action])\n",
    "        elif self.level >= 4 or random.random()>0.9:\n",
    "            actions = None \n",
    "        else:\n",
    "            actions = param_to_dics(name_parameter[self.path[0]])\n",
    "        return actions\n",
    "    \n",
    "    def update(self,action):\n",
    "        \n",
    "        path = self.path + [action]\n",
    "        actions = self.update_action(action)\n",
    "        level = self.level + 1\n",
    "        return State(path=path,actions=actions,level=level)\n",
    "        \n",
    "    def update_self(self,action):\n",
    "        self.path += [action]\n",
    "        self.actions = self.update_action(action)\n",
    "        self.level += 1"
   ]
  },
  {
   "cell_type": "code",
   "execution_count": null,
   "metadata": {},
   "outputs": [],
   "source": []
  },
  {
   "cell_type": "code",
   "execution_count": null,
   "metadata": {},
   "outputs": [],
   "source": []
  },
  {
   "cell_type": "code",
   "execution_count": null,
   "metadata": {},
   "outputs": [],
   "source": []
  },
  {
   "cell_type": "code",
   "execution_count": null,
   "metadata": {},
   "outputs": [],
   "source": []
  },
  {
   "cell_type": "code",
   "execution_count": null,
   "metadata": {},
   "outputs": [],
   "source": []
  },
  {
   "cell_type": "markdown",
   "metadata": {},
   "source": [
    "### classifier runtime"
   ]
  },
  {
   "cell_type": "code",
   "execution_count": 30,
   "metadata": {
    "scrolled": true
   },
   "outputs": [
    {
     "data": {
      "text/plain": [
       "([<matplotlib.axis.XTick at 0x1a1fa6d7f0>,\n",
       "  <matplotlib.axis.XTick at 0x1a1fab99b0>,\n",
       "  <matplotlib.axis.XTick at 0x1a1fab9c18>,\n",
       "  <matplotlib.axis.XTick at 0x1a1e911438>,\n",
       "  <matplotlib.axis.XTick at 0x1a1fb55c18>,\n",
       "  <matplotlib.axis.XTick at 0x1a1fb556a0>,\n",
       "  <matplotlib.axis.XTick at 0x1a1fb950f0>,\n",
       "  <matplotlib.axis.XTick at 0x1a1fb95550>,\n",
       "  <matplotlib.axis.XTick at 0x1a1fb95a20>,\n",
       "  <matplotlib.axis.XTick at 0x1a1fb95ef0>,\n",
       "  <matplotlib.axis.XTick at 0x1a1fb9d400>,\n",
       "  <matplotlib.axis.XTick at 0x1a1fb9d8d0>],\n",
       " <a list of 12 Text xticklabel objects>)"
      ]
     },
     "execution_count": 30,
     "metadata": {},
     "output_type": "execute_result"
    },
    {
     "data": {
      "image/png": "[encoded data removed]",
      "text/plain": [
       "<Figure size 432x288 with 1 Axes>"
      ]
     },
     "metadata": {
      "needs_background": "light"
     },
     "output_type": "display_data"
    }
   ],
   "source": [
    "import matplotlib.pyplot as plt\n",
    "x = [i for i in range(len(times))]\n",
    "plt.plot(x,times)\n",
    "plt.xticks(x,names,rotation=70)"
   ]
  },
  {
   "cell_type": "code",
   "execution_count": null,
   "metadata": {},
   "outputs": [],
   "source": []
  },
  {
   "cell_type": "code",
   "execution_count": null,
   "metadata": {},
   "outputs": [],
   "source": [
    "def param_to_actions(params):\n",
    "    A = []\n",
    "    for i in params.keys():\n",
    "        A = A+ params[i]\n",
    "    return A\n",
    "\n",
    "def action_to_dic(value,params):\n",
    "    for i in params.keys():\n",
    "        if value in params[i]:\n",
    "            return {i:value}\n",
    "            break"
   ]
  },
  {
   "cell_type": "code",
   "execution_count": null,
   "metadata": {},
   "outputs": [],
   "source": []
  }
 ],
 "metadata": {
  "kernelspec": {
   "display_name": "Python 3",
   "language": "python",
   "name": "python3"
  },
  "language_info": {
   "codemirror_mode": {
    "name": "ipython",
    "version": 3
   },
   "file_extension": ".py",
   "mimetype": "text/x-python",
   "name": "python",
   "nbconvert_exporter": "python",
   "pygments_lexer": "ipython3",
   "version": "3.7.3"
  }
 },
 "nbformat": 4,
 "nbformat_minor": 2
}
